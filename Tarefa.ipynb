{
 "cells": [
  {
   "cell_type": "markdown",
   "metadata": {},
   "source": [
    "# Tarefa\n",
    "---\n",
    "\n",
    "Esta tarefa é um desafio para por em prova seus conhecimentos em Python! Para resolvê-lo, você deverar utilizar o que foi apresentado nas últimas aulas E consultar materiais complementares(stack overflow) para aprender ainda mais em um cenário prático!"
   ]
  },
  {
   "cell_type": "markdown",
   "metadata": {},
   "source": [
    "## Baixando o dataset\n",
    "\n",
    "O dataset desta atividade foi tirado do Kaggle e chama-se [Food Ingredient List](https://www.kaggle.com/datafiniti/food-ingredient-lists/version/1#). Ele contém os ingredientes presentes em 10000 produtos encontrados em supermercados. Para mais informações, visite a [página do dataset](https://www.kaggle.com/datafiniti/food-ingredient-lists/version/1#).\n",
    "\n",
    "Para baixar o dataset, crie uma conta no Kaggle ou, se possível, execute o comando abaixo:"
   ]
  },
  {
   "cell_type": "code",
   "execution_count": 20,
   "metadata": {},
   "outputs": [
    {
     "data": {
      "text/plain": [
       "0"
      ]
     },
     "execution_count": 20,
     "metadata": {},
     "output_type": "execute_result"
    }
   ],
   "source": [
    "from os import system\n",
    "system(\"wget -O ingredients.tsv https://drive.google.com/uc?export=download&id=1oTjCLXJZjciOmpweGsirlreu9zcrm6Py\")"
   ]
  },
  {
   "cell_type": "markdown",
   "metadata": {},
   "source": [
    "**PS:** caso o comando não obtenha resposta no jupyter, execute-o no seu terminal ou baixe o arquivo direto pelo link"
   ]
  },
  {
   "cell_type": "markdown",
   "metadata": {},
   "source": [
    "## Demandas\n",
    "---\n",
    "\n",
    "Para por seus conhecimentos em prática, temos aqui 7 demandas de informações a serem extraídas sobre o dataset. As demandas, para serem atingidas, necessitam de algumas operações de manipulação de strings e, se preferir (para sue bem), DataFrames. Fique a vontade para responder da maneira que achar mais interessante, bem como plotar gráficos para ilustrar suas respostas."
   ]
  },
  {
   "cell_type": "markdown",
   "metadata": {},
   "source": [
    "### 1 - Quantas e quais as marcas de produtos contidas no dataset?"
   ]
  },
  {
   "cell_type": "code",
   "execution_count": 2,
   "metadata": {},
   "outputs": [
    {
     "data": {
      "text/plain": [
       "array(['Simon Fischer', 'McCormick', 'Jolly Time', ..., \"Bobo's Oat Bars\",\n",
       "       'Jyoti Natural Foods', \"Wright's\"], dtype=object)"
      ]
     },
     "execution_count": 2,
     "metadata": {},
     "output_type": "execute_result"
    }
   ],
   "source": [
    "import pandas as pd\n",
    "\n",
    "df = pd.read_csv('ingredients.tsv', sep='\\t', header = 0)\n",
    "df['brand'].unique()"
   ]
  },
  {
   "cell_type": "code",
   "execution_count": 3,
   "metadata": {},
   "outputs": [
    {
     "data": {
      "text/plain": [
       "3143"
      ]
     },
     "execution_count": 3,
     "metadata": {},
     "output_type": "execute_result"
    }
   ],
   "source": [
    "df.brand.nunique()"
   ]
  },
  {
   "cell_type": "markdown",
   "metadata": {},
   "source": [
    "### 2 - Quais as marcas que aparecem mais no dataset? Quais aparecem menos?"
   ]
  },
  {
   "cell_type": "code",
   "execution_count": 58,
   "metadata": {},
   "outputs": [
    {
     "name": "stdout",
     "output_type": "stream",
     "text": [
      "Goya Food    77\n",
      "Name: brand, dtype: int64\n"
     ]
    }
   ],
   "source": [
    "maximo = df.brand.value_counts().max()\n",
    "f = df.brand.value_counts()\n",
    "print(f[f == maximo])"
   ]
  },
  {
   "cell_type": "code",
   "execution_count": 57,
   "metadata": {},
   "outputs": [
    {
     "name": "stdout",
     "output_type": "stream",
     "text": [
      "Gerber Graduates Fruit Dices    1\n",
      "Complete Salad                  1\n",
      "Nando's                         1\n",
      "SUGAR DADDY ITEMS               1\n",
      "Entrees to Excellence           1\n",
      "                               ..\n",
      "FUNYUNS                         1\n",
      "Cocoaland                       1\n",
      "NILLA                           1\n",
      "Jambalaya Girl                  1\n",
      "Shirakiku                       1\n",
      "Name: brand, Length: 1879, dtype: int64\n"
     ]
    }
   ],
   "source": [
    "minimo = df['brand'].value_counts().min()\n",
    "s = df.brand.value_counts()\n",
    "print(s[s==minimo])"
   ]
  },
  {
   "cell_type": "markdown",
   "metadata": {},
   "source": [
    "### 3 - Compute a média e desvio padrão da frequência das marcas de produtos"
   ]
  },
  {
   "cell_type": "code",
   "execution_count": 11,
   "metadata": {},
   "outputs": [
    {
     "name": "stdout",
     "output_type": "stream",
     "text": [
      "2.8997772828507795\n"
     ]
    }
   ],
   "source": [
    "c = df['brand'].count()\n",
    "d = df['brand'].nunique()\n",
    "media = c/d\n",
    "print(media)"
   ]
  },
  {
   "cell_type": "code",
   "execution_count": 12,
   "metadata": {},
   "outputs": [
    {
     "name": "stdout",
     "output_type": "stream",
     "text": [
      "5.472443617673492\n"
     ]
    }
   ],
   "source": [
    "serie = df.brand.value_counts()\n",
    "serie2 = serie.apply(lambda s: ((s-media)**2)/d)\n",
    "dp = serie2.sum()**(1/2)\n",
    "print(dp)"
   ]
  },
  {
   "cell_type": "markdown",
   "metadata": {},
   "source": [
    "### 4 - Quais os ingredientes que aparecem nos produtos? Mostre quantos são, os que mais aparecem e os que menos aparecem."
   ]
  },
  {
   "cell_type": "code",
   "execution_count": 81,
   "metadata": {},
   "outputs": [
    {
     "name": "stdout",
     "output_type": "stream",
     "text": [
      "['Dried Prunes,Water,Corn Syrup,Sugar,Pectin.']\n",
      "['Salt,Sugar,Molasses (Refinery Syrup, Molasses, Caramel Color),Spices (Including Black Pepper),Garlic Onion,Tapioca Maltodextrin,Bacon Fat and Cooked Bacon (Cured with Water, Salt, Sodium Erythorbate, Sodium Nitrate),Silicon Dioxide (To Make Free Flowing),Autolyzed Yeast,Sunflower Oil,Corn Maltodextrin,Vinegar,Extractives of Paprika,and Natural Flavor (Including Smoke)']\n",
      "['Salt, Yellow 5 Lake, Tricalcium Phosphate And Artificial Butter Flavor']\n",
      "['Mechanically hulled seasame seeds.Allergy Information: Packed in a facility that processes wheat, flour, peanuts and tree nuts.,Mechanically hulled seasame seeds.Allergy Information: Packed in a facility that processes wheat,flour,peanuts and tree nuts.']\n",
      "['FALSE']\n",
      "['Red Raspberries,Sugar,Glucose Syrup,Citric Acid,Pectin. Contains: Wheat.']\n",
      "['Noodles: wheat flour,water,wheat gluten,modified tapioca starch,salt,sodium alginate,lactic acid. Sauce packet: sugar,water,soy sauce (water, soybean, wheat, salt),plum sauce (plum juice, sugar, plum, water, licorice extract, citric acid, sodium citrate, salt, xanthan gum, caramel color),rice vinegar,pineapple juice concentrate,salt,hydrolyzed soy protein,tomato paste,modified corn starch,orange juice concentrate,onion,yeast extract,red chili pepper. Vegetable packet: ...']\n",
      "['Wheat Flour,Soybean Oil,Salt,Dehydrated Garlic,Sugar,Onion Powder,Garlic Powder,Yeast,Spices. Contains: Wheat.']\n",
      "['Rolled Oats,Brown Rice Syrup,Evaporated Cane Juice,Brown Rice Crisp (Brown Rice, Brown Rice Syrup, Salt),Water,Non-GMO Canola Oil,Oat Bran,Oat Syrup Solids,Chia Seeds,Chicory Root Fiber,Honey,Orange Granules,Natural Flavors,Natural Vitamin E.']\n",
      "['Skim Milk,Sugar,Corn Syrup,Canola Oil,High Oleic Sunflower Oil,Calcium Caseinate,Soy Protein Isolate,Corn Oil,Sodium Caseinate,Artificial Flavor,Magnesium Phosphate,Magnesium Chloride,Carrageenan,Soy Lecithin,Sodium Ascorbate,Ferrous Sulfate,Zinc Sulfate,Vitamin E Acetate,Niacinamide,Red 3,Calcium Pantothenate,Cupric Sulfate,Manganese Sulfate,Vitamin A Palmitate,Vitamin B6 Hydrochloride,Thiamin Hydrochloride,Riboflavin,Chromium Chloride,Folic Acid,Vitamin D3,Biotin,Sodium Molybdate,Sodium Selenite,Vitamin K1,Vitamin B12.']\n",
      "['Filtered Water,Whole Organic Soybeans,Organic Evaporated Cane Juice,Organic Malt Syrup,Tricalcium Phosphate,Sea Salt,Carrageenan,Organic Natural Vanilla Flavor,Vitamin A Palmitate,Vitamin D2.']\n",
      "['Filtered Water,Whole Organic Soybeans,Organic Evaporated Cane Juice,Organic Dutch Processed Cocoa Powder,Tricalcium Phosphate,Sea Salt,Carrageenan,Organic Natural Vanilla Flavor,Vitamin A Palmitate,Vitamin D2.']\n",
      "['Almondmilk (Filtered Water, Almonds),Evaporated Cane Juice,Cocoa (Dutch Process),Calcium Carbonate,Sea Salt,Potassium Citrate,Natural Flavors,Sunflower Lecithin,Gellan Gum,Vitamin A Palmitate,Vitamin D2 and D-Alpha-Tocopherol (Natural Vitamin E),.']\n",
      "['Enriched Flour (Wheat Flour, Malted Barley Flour, Niacin, Reduced Iron, Thiamine Mononitrate {Vitamin B1}, Riboflavin {Vitamin B2}, Folic Acid),Soybean Oil,Corn and Malt Syrup,Salt,Garlic,Yeast,Garlic Oil,Tocopherols Added to Preserve Freshness.']\n",
      "['Anise Seed Used mainly to add flavor to cordials and liqueurs*NEWLINE*,Used in France to seasoning fish,soup,seafood and shellfish*NEWLINE*,Used in India on vegetables and seafood dishes*NEWLINE*,One of the most delicate herb plants related to dill,fennel and cumin*NEWLINE*,Gluten free']\n",
      "['Garlic Powder. 1/4 teaspoon garlic powder = 1 medium garlic clove,Since 1873']\n",
      "[\"Sugar,Corn Syrup,Gelatin,Citric Acid,Lactic Acid,Fumaric Acid,Maltodextrin,Confectioner's Glaze,Acacia (Gum Arabic),Natural and Artificial Flavors,Calcium Lactate,Sodium Lactate,Titanium Dioxide [Color],Carnauba Wax (Adds a Trivial Amount of Fat),Beeswax (Adds a Trivial Amount of Fat),Red 40,Yellow 5,Yellow 6,Blue 1,Sodium Citrate.\"]\n",
      "['CORN,PARTIALLY HYDROGENATED SOYBEAN AND/OR CANOLA OIL,SALT,BUTTERMILK,TOMATO AND ONION AND GARLIC POWDERS,MONOSODIUM GLUTAMATE (FLAVOR ENHANCER),CORN SYRUP SOLIDS,SUGAR,CHEDDAR CHEESE (MADE FROM CULTURED MILK, SALT AND ENZYMES),NATURAL AND ARTIFICIAL FLAVOR,LACTIC AND MALIC ACIDS (FOR TARTNESS),SPICES,SODIUM DIACETATE (FOR TARTNESS),PARSLEY FLAKES,SODIUM CITRATE,DISODIUM PHOSPHATE,ARTIFICIAL COLOR (INCLUDES RED 40 LAKE),CITRIC ACID,DISODIUM INOSINATE AND DISODIUM GUANYLATE (FLAVOR ENHANCERS),SODIUM CASEINATE,MONO- AND DIGLYCERIDES (EMULSIFIER),DEGERMED YELLOW CORN MEAL,SOYBEAN OIL.']\n",
      "['Pistachios,Almonds,Cashews,Peanut and/or Cottonseed Oil,Sea Salt. Contains: Pistachio,Almond,Cashew. Manufactured on equipment that processes peanut,other tree nuts.']\n",
      "['Cooked Enriched Pasta (Water, Elbow Macaroni (Semolina (Wheat), Niacin, Iron (Ferrous Sulfate), Thiamin Mononitrate, Riboflavin, Folic Acid)),Milk,Water,Pasteurized Process Cheese Spread (American Cheese (Pasteurized Milk, Cheese Culture, Salt, Enzymes), Water, Whey, Sodium Phosphate and/or Whey Protein Concentrate, Skim Milk, Contains Less Than 2 of the Following: Milkfat, Salt, Sodium-Alginate, Lactic Acid, Artificial Color, Apocaratenal (Color)),Cheese (Cheddar Cheese (Pasteurized Milk, Cheese Culture, Salt, Enzymes), Water, Salt, Annatto (Color)),Margarine (Liquid Soybean Oil, Water, Salt, Hydrogenated Cottonseed Oil, Soy Lecithin, Vegetable Mono and Diglycerides, Artificial Flavor, Vitamin A Palmitate),Contains Less Than 2 of the Following: Modified Food Starch,Salt.']\n",
      "['Cumin Ground']\n",
      "['Rolled Oats*,Cane Sugar*,Soy Oil*,Dried Coconut*,White Chocolate Chunks* (Cane Sugar*, Cocoa Butter*, Whole Milk Powder*, Soy Lecithin*, (Non-GMO), Vanilla Extract*, Ground Vanilla*),Freeze-Dried Pineapple*,Rice Starch*,Sea Salt,Natural Flavor,Cinnamon*,Tocopherols (Vitamin E),. *Organic.']\n",
      "['Garlic Powder']\n",
      "['Sugar,Brown Sugar,Natural Flavor,Caramel Color,and Not More than 2% Silicon Dioxide,Tricalcium Phosphate and Soybean Oil Added to Prevent Caking.']\n",
      "['Garlic,Water,Citric Acid,Sodium Benzoate.']\n",
      "['Salt,Monosodium,Glutamate,Sugar,Hydrolyzed Soy Protein,Malto Dextrin,Dehydrated Vegetables (Onion, Garlic, Celery and Parsley),Yeast Extract,Chicken Fat,Turmeric,Chicken Meat,Caramel Color,Natural Flavor,Disodium Inosinate and Guanylate,Silica (Anticaking Agent),.']\n",
      "['Chopped Oregano.']\n",
      "['Contains: Turmeric,Fenugreek,Coriander,Mustard Flour,Cumin,Gingerroot,Black Pepper,Allspice,Cayenne and Fennel.']\n",
      "['Whole Oysters,Water,Salt.']\n",
      "['Salt,Sugar,Spices,Including Paprika,Tumeric,Onion,Corn Starch,Garlic,Tricalcium Phosphate (Prevents Caking),Paprika Oleoresin (For Color),And Natural Flavor.']\n",
      "['Non Pareil Capers,Water,Salt and Vinegar.']\n",
      "['Almonds,Sugar,Cocoa Powder (processed with Alkali),Corn Maltodextrin,Natural Flavor (Dark Chocolate),Sea Salt and Rebiana (Stevia Extract),.']\n",
      "['Enriched Flour (Bleached Wheat Flour, Malted Barley Flour, Niacin, Iron, Thiamine Mononitrate, Riboflavin, Folic Acid),Salt,Spices and Color,Dehydrated Onion and Garlic,Natural Flavor.']\n",
      "['Sour Cherry Juice,Sugar.']\n",
      "['Organic Wild Berries (Organic Blackberries, Organic Strawberries, Organic Bilberries, Organic Raspberries),Organic Apple Juice Concentrate,Natural Fruit Pectin,Ascorbic Acid.']\n",
      "['Maltodextrin,Salt,Monosodium Glutamate,Dehydrated Garlic,Onion Powder,Dehydrated Onion,Dehydrated Parsley,Partially Hydrogenated Soybean Oil And Cottonseed Oil,Spice,Modified Food Starch,Dextrose,Lactic Acid,Carrageenan,And Artificial Color. Contains A Milk Ingredient.']\n",
      "['Salt,Cornstarch,Monosodium Glutamate,Sugar,Partially Hydrogenated Palm Oil,Garlic Powder,Onion Powder,and Less than 2 of Dehydrated Chicken**,Turmeric Spices,Chicken Fat**,Disodium Inosinate,Natural Flavor. **Adds Trivial Amounts of Cholesterol.']\n",
      "['Water*,Orange Peel**,Maltodextrin* (Dietary Fiber),Polydextrose*,Fruit Pectin,Locust Bean Gum*,Citric Acid,Natural Flavor*,Sucrolose* (Splenda Brand),Potassium Sorbate And Sodium Benzoate (to Preserve Freshness),Calcium Chloride*,Yellow #6*. *Not In Regular Preserves. **Adds A Trivial Amount of Sugar.']\n",
      "['Brown Sugar,Sea Salt,Garlic,Spices (Including Red Pepper),Sugar,Onion,Toasted Sesame Seed,Red Bell Pepper,Natural Flavor (Including Smoke),Green Onion,Silicon Dioxide And Calcium Stearate (to Make Free-Flowing),Caramel Color,And Soy Sauce (Wheat, Soybean, Salt),. Contains: Soy And Wheat.']\n",
      "['Organic Potato Starch,Organic Corn Syrup Solids,Organic Natural Flavors (Organic Turkey and Chicken Flavors,Sea Salt,Organic Gum Arabic),Organic Rice Flour,Sea Salt,Organic Carrot,Organic Onion,Silicon Dioxide,Malt Extract,Organic Sage,Organic']\n",
      "['Water,Sugar,Coconut Oil,Sodium Caseinate (a Milk Derivative),**,Artificial and Natural Flavors,Dipotassium Phosphate,Mono- and Diglycerides,**Not a Source of Lactose.']\n",
      "['Sea Salt, Organic Garlic, Organic Onion, Organic Black Pepper, Organic Oregano, Organic Bay, Organic Turmeric.,Sea Salt,Organic Garlic,Organic Onion,Organic Black Pepper,Organic Oregano,Organic Bay,Organic Turmeric.']\n",
      "[\"Enriched Flour (Wheat Flour, Niacin, Reduced Iron, Thiamin Mononitrate Vitamin B1, Riboflavin Vitamin B2, Folic Acid),Corn Syrup,Sugar High Fructose Corn Syrup,Vegetable Oil (Soybean And/Or Palm Oil With Tbhq For Freshness, Partially Hydrogenated Cottonseed And/Or Soybean Oil, Hydrogenated Palm Kernel Oil),Contains Two Percent Or Less of Salt,Fructose,Wheat Starch,Rice Flour,Calcium Carbonate,Cornstarch,Leavening (Baking Soda, Sodium Acid Pyrophosphate, Monocalcium Phosphate),Soy Lecithin,Caramel Color,Dextrose,Maltodextrin,Gelatin,Sodium Stearoyl Lactylate,Mono- And Diglycerides,Color Added,Natural And Artificial Flavor (Contains Milk),Modified Food Starch,Confectioner's Glaze,Carrageenan,Cellulose Gum,Carnauba Wax,Vitamin A Palmitate,Niacinamide,Reduced Iron,Red 40,Yellow 6,Pyridoxine Hydrochloride (Vitamin B6),Yellow 5,Riboflavin (Vitamin B2),Gum Arabic,Blue 2 Lake,Thiamin Hydrochloride (Vitamin B1),Blue 1,Annatto Color,Xanthan Gum,Folic Acid,BHT (Preservative),Blue 2. Contains Wheat,Soy And Milk Ingredients.\"]\n",
      "['Water,Wheat Flour,Buckwheat Flour,Wheat Gluten,Salt,Lactic Acid.']\n",
      "['Aromatic And Bitingly Pungent,Coriander Is An Ancient Seasoning Whose Culinary Roots Travel Deep Into Remote Times. We Grind Our Own Coriander Seed To Ensure Delightful Bouquet And Distinctive Flavor. Ground Coriander Is Traditional In South American,Indian,Mediterranean And African Cuisines,Particularly Curries,Meat,And Seafood Dishes. Add To Stews And Marinades For Authentic Mediterranean Flavor.']\n",
      "['Water*,Blackberries+,Maltodextrin* (Dietary Fiber),Polydextrose*,Fruit Pectin,Locust Bean Gum*,Citric Acid,Natural Flavor*,Sucrolose* (Splenda Brand),Potassium Sorbate And Sodium Benzoate (to Preserve Freshness),Calcium Chloride*,Red #40 And Blue #1*. *Not In Regular Preserves. +Adds A Trivial Amount of Sugar.']\n",
      "[\"Sugar,Corn Syrup,Modified Food Starch,Contains 2% or Less of the Following: Peach Puree Concentrate,Blueberry Puree,Strawberry Puree,Lemon Puree,Pear Juice Concentrate,Tangerine Juice Concentrate,Watermelon Juice Concentrate,Apple Juice Concentrate,Cherry Juice Concentrate,Pomegranate Juice Concentrate,Coconut,Citric Acid,Phosphoric Acid,Ascorbic Acid,Sodium Lactate,Sodium Citrate,Natural and Artificial Flavors,Color Added,Red 40 Lake,Blue 1 & 2 Lake,Yellow 5 & 6 Lake,Yellow 5 & 6,Red 40,Blue 1,Tapioca Dextrin,Beeswax,Carnauba Wax,Confectioner's Glaze,Salt,Caffeine.\"]\n",
      "['Water,Whitefish,Pike,Matzo Meal (Passover Wheat Flour and Water),Egg Whites,Onion,Salt,Carrageenan,Locust Bean Gum,Potassium Chloride,Dipotassium Phosphate,Pepper,Natural Flavorings.']\n",
      "['Sugar,Wheat Syrup,Strawberry Juice from Concentrate (2),Hydrogenated Coconut Oil,Citric Acid,Corn Starch,Artificial Flavor,Maltodextrin,Sucrose Fatty Acid Esters,Gellan Gum,Carnauba Wax,Sodium Carboxymethylcellulose,Gum Arabic,Color (Beetroot Red),Beeswax. Mentos Chewy Mint Strawberry.,Mentos The Chewy Mint Strawberry.,Artificially flavored.,Perfetti.,For nutritional information,write to: Nutritional Data,P.O. Box 18190,Erlanger,KY 41018.,Mentos is a registered trademark of Perfetti Van Melle Benelux B.V. www.mentos.com.,For the strawberry lover,mentos strawberry chewy candies are a perfect fit.,With a hard outer shell to keep them from melting and a creamy chewy center,mentos strawberry flavored chewy candies have no competition.,If are looking for fresh breath and a delicious fruity flavor then look no further than mentos strawberry flavored chewy mints.']\n",
      "['Durum Flour (Wheat),Egg Yolks or Eggs,Niacin,Iron (Ferrous Sulfate),Thiamine Mononitrate (Vitamin B1),Riboflavin (Vitamin B2),and Folic Acid.']\n",
      "['Oregano,Marjoram,Savory,Thyme,Basil,Rosemary,Sage. Aromatic blend of basil,oregano,rosemary,thyme and other herbs,Perfect compliment to Italian dishes and tomato-based sauces']\n",
      "['Natural Sesame Seed.']\n",
      "['Strawberries*,Apple Juice*,Wild Strawberries*,Pectin. *From organic farming.']\n",
      "['100 Natural Scottish-Style Porridge Oats.']\n",
      "['Water (Ingredients Not in Regular Preserves),Blackberries (Adds a Trivial Amount of Sugar),Polydextrose (Ingredients Not in Regular Preserves),Maltodextrin (Ingredients Not in Regular Preserves),Fruit Pectin,Locust Bean Gum (Ingredients Not in Regular Preserves),Citric Acid,Natural Flavor (Ingredients Not in Regular Preserves),Potassium Sorbate (Preservative),Calcium Chloride (Ingredients Not in Regular Preserves),Sucralose (Non Nutritive Sweetener),(Ingredients Not in Regular Preserves),Red 40 (Ingredients Not in Regular Preserves),.']\n",
      "['Organic Texmati Rice.']\n",
      "['Whole Semolina From (Wheat),Niacin,Ferrous Lactate,Thiamine Mononitrate,Riboflavin,Folic Acid.']\n",
      "['100% Corn Flour,Water. This Product Is Produced In A Gluten-Free Facility.']\n",
      "['Soybean Sauce (Soy Bean, Corn, Wheat),Water,Sugar,Salt,Add Food Enhancer']\n",
      "['Salt,Spices (Including Coriander, Black Pepper, Paprika, And Thyme),Garlic,Sugar,Onion,Orange Peel,Citric Acid,Corn Maltodextrin,Gum Arabic,Valencia Orange Peel,Beer (Malted Barley, Corn Syrup, Hops, Yeast),And Natural Flavors.']\n",
      "['Whole Black Pepper.']\n",
      "['Juice Concentrates (Pear, Grape),Maltodextrin (Dietary Fiber),Raspberries,Fruit Pectin,Natural Flavor,Citric Acid.']\n",
      "['Cinnamon Is One Of The Oldest And Most Flavorful Spices In The World. Spice Islands Have Traveled To Saigon To Bring You This Sweet Cinnamon Whose Red-Hot,Candy-Like Flavor Has Been Prized For Centuries. Ground Cinnamon Is The Secret Ingredient In A Wide Array Of Middle Eastern And Mediterranean Dishes,And A Favorite For Baked Goods. For A Fragrant Pilaf,Cook Rice In Cinnamon-Flavored Broth Stir In Chopped Dried Fruits And Toasted Nuts.']\n",
      "['Salt,Galangal,Lemongrass,Sugar,Dextrose,Shallot,Chili,Kaffir Lime Peel,Onion,Coriander Root,Citric Acid,Hydrolyzed Soybean Protein.']\n",
      "['Chili Peppers,Granulated Onion,Spices,Salt,Granulated Garlic.']\n",
      "['Blackberries,Sugar,Cane Sugar,Concentrated Lemon Juice,Fruit Pectin.']\n",
      "['Hulled Pumpkin Seed.']\n",
      "['Arbol Chili,Sulfites. Resealable bag,Arbol chili,sulfites']\n",
      "['Water,Beets,Salt,Citric Acid,Sodium Saccharin (22mg per serving),.']\n",
      "['Cinnamon Ground']\n",
      "['Toasted Seaweed Sheets.']\n",
      "['Pequin Chili Pods']\n",
      "['Quinoa,Dehydrated Vegetables (Carrot, Red And Green Bell Peppers, Tomato, Celery),Salt,Cane Sugar,Yeast Extract,Garlic Powder,Onion Powder,Potato Starch,Spices,Turmeric,And Less Than 2% Sunflower Oil And Rice Concentrate Added to Prevent Caking.']\n",
      "['Celery Salt']\n",
      "['100 Real Salt.']\n",
      "['Ginger Was One Of The First Oriental Spices Used In The Western World When It Was Brought From The East By The Fabled Spice Caravans. For An Asian Flair,Mix Ground Ginger With Soy Sauce,Toasted Spice Islands Sesame Seeds And Minced Garlic Drizzle Over Vegetables,Chicken Or Steak. Blend With Butter And Brown Sugar Pour Over Cooked Carrots Or Winter Squash And Broil. Use Ground Ginger To Flavor Marinades,Curries,And Baked Goods.']\n",
      "['Grape (Juice And Concentrated Juice),Sugar,Cane Sugar Concentrated Lemon Juice,Fruit Pectin.']\n",
      "['Chili Pepper and Other Spices,Salt and Garlic Powder']\n",
      "['Chunk White Tuna,Water,Vegetable Broth (Contains Soy),And Salt.']\n",
      "['Cornstarch,Chili Pepper and Other Spices,Maltodextrin,Salt,Dehydrated Onion,Dehydrated Garlic,Paprika (as Color),Red Pepper,Disodium Inosinate,Paprika Extractives (as Color),.']\n",
      "['Garlic,Soybean Oil,Alessi Extra Virgin Olive Oil,Alessi Sea Salt,Phosphoric Acid,Sodium Benzoate and Potassium Sorbate,as Preservatives.']\n",
      "['Peanuts And Salt. Contains Peanut Ingredients. Allergy Information: This Product Is Made On Equipment That Also Makes Products Containing Tree Nuts.']\n",
      "['Juice Concentrates (Pear, Grape, Pineapple),Apricots,Citric Acid,Fruit Pectin,Natural Flavor.']\n",
      "['Chicken Stock,Salt Flavorings,Chicken Fat,Yeast Extract,Sugar,Vegetable Juice Concentrate (Carrot, Celery and Onion),.']\n",
      "['Garlic,Sunflower Oil,and Parsley.']\n",
      "['Reduced Fat Milk,Sugar,Rice,Contains Less Than 2 of Eggs,Natural Flavor,Salt,Annatto Extract (Color),Ground Vanilla Beans.']\n",
      "['Chamomile. Renowned for its natural sedative properties,Little flowers are most commonly used in teas prepared for the relief of insomnia and mild digestive disorders,Infusion can also be used to soothe skin burns,Gluten free']\n",
      "['Shelled Pumpkin Seeds,Crushed Tomato,Granulated Garlic,Granulated Onion,Dried Basil,Unrefined Sea Salt,Dried Parsley,Dried Oregano,Black Pepper.']\n",
      "['Ground Cinnamon.']\n",
      "['Organic Evaporated Cane Juice,Organic Brown Rice Syrup,Citric Acid,Natural Apple Flavor.']\n",
      "['Beef,Water,Corn Syrup,Contains Less Than 2 of Salt,Sodium Lactate,Flavor,Dextrose,Hydrolyzed Beef Stock,Autolyzed Yeast,Sodium Phosphates,Sodium Diacetate,Sodium Ascorbate,Sodium Nitrite,Extractives of Paprika.']\n",
      "['Paprika,Less Than 2 Silicon Dioxide To Prevent Caking.']\n",
      "['Isomalt,Citric Acid,Natural And Artificial Flavors,Sucralose,Colors (Red 40, Blue1),.']\n",
      "['Caraway Seed']\n",
      "['Water,Green Jalapeno Pepper,Salt,Acetic Acid,Fresh Onion,Citric Acid,Xanthan Gum,Ascorbic Acid,Garlic,Sodium Benzoate,Oregano Powder,Black Pepper,Artificial Colors FD&C Blue and FD&C Yellow,Cumin.']\n",
      "['Annato seed']\n",
      "['Fresh Steamed Chickpeas,Sesame Tahini,Water,Sunflower Il,Olive Oil,Roasted Garlic,Citric Acid,Salt,Gum Arabic,Spices,1/10 of 1% Sodium Benzoate,Potassium Sorbate (to Preserve Freshness),.']\n",
      "['Himalayan Pink Salt.']\n",
      "['Damson Plum,Sugar,Cane Sugar,Concentrated Lemon Juice,Fruit Pectin.']\n",
      "['Chili Pepper and Other Spices,Salt,Garlic Powder and Red Pepper']\n",
      "['Salt,Calcium Silicate (An Anti-Caking Agent)']\n",
      "['Vanilla Bean Extractives In Water,Alcohol (35),and Corn Syrup. Value priced,Kosher']\n",
      "['Salt,Partially Hydrogenated Cottonseed Oil,Monosodium Glutamate,Corn Starch,Chicken Fat,Hydrolyzed Corn Protein,Sugar,Dried Chicken Meat,Onion Powder,Water,Garlic Powder,Turmeric,Caramel Color,Parsley,Spices,Citric Acid,Disodium Guanylate,Disodium Inosinate.']\n",
      "['Apple Juice and Sugar.']\n",
      "[\"Sugar,Corn Syrup,Modified Food Starch,Contains 2 or Less of the Following: Peach Puree Concentrate,Raspberry Puree,Strawberry Juice Concentrate,Apple Juice Concentrate,Cherry Juice Concentrate,Watermelon Juice Concentrate,Lime Juice Concentrate,Blueberry Puree,Lemon Puree,Orange Puree,Citric Acid,Fumaric Acid,Lactic Acid,Sodium Citrate,Sodium Lactate,Ascorbic Acid,Tapioca Dextrin,Chocolate Liquor,Cocoa Butter,Soy Lecithin (an Emulsifier),Cocoa Powder,Natural and Artificial Flavors,Color Added,Red 40 Lake,Red 40,Yellow 5 6 Lake,Yellow 5 6,Blue 1 2 Lake,Blue 1,Beeswax,Carnauba Wax,Confectioner's Glaze,Salt.\"]\n",
      "['Garlic Minced']\n",
      "['Water**,Boysenberries+,Polydextrose**,Maltodextrin**,Fruit Pectin,Locust Bean Gum**,Citric Acid,Natural Flavor**,Potassium Sorbate (Preservative),Sucralose (Non Nutritive Sweetener),**,Calcium Chloride**,Red 40*8,Blue 1**. **Ingredients Not In Regular Preserves. +Adds A Trivial Amount Of Sugar. <0.5G/Serving.']\n",
      "['Sea Salt,Spices (Black Pepper, Dill Seed, Coriander, Red Pepper),And Dehydrated Garlic.']\n",
      "['Water,Whitefish,Egg Whites,Sugar,Pike,Salt,Matzo Meal (Passover Wheat Flour and Water),Onion,Monosodium Glutamate,Xanthan Gum,Carob Seed Gum,Pepper,Natural Flavorings.']\n",
      "['Chili Pepper,Salt,Cumin,Oregano,Garlic,Silicon Dioxide.']\n",
      "['Whole Grain Oats,Honey,Expeller Pressed Canola Oil,Chocolate Chunks (Sugar, Chocolate Liquor, Anhydrous Dextrose, Cocoa Butter, Soy Lecithin, Vanilla Extract),Oat Bran,Molasses,Ground Flax Seed,Cocoa,Vanilla Extract,Sea Salt.']\n",
      "['Organic Brown Rice Syrup,Organic Cane Sugar,Gelatin,Natural Flavors,Organic Fruit Juice (Apple and/or Pear, Black Carrot, Pomegranate),Citric Acid,Malic Acid,Ascorbic Acid,Organic Sunflower Oil,Organic Carnauba Wax.']\n",
      "['Potato Starch,Tapioca Dextrin,Salt,Partially Hydrogenated Cottonseed Oil,Cottonseed Oil,Spices,Turmeric,Natural and Artificial Flavor.']\n",
      "['Arbol Chili Pods.']\n",
      "['Ground Cumin.']\n",
      "['Water,Beef Broth,Sea Salt,Yeast Extract,Sugar,Natural Flavor,Salt,Evaporated Cane Juice,Beef Tallow*,Spices,Onion Powder,Beef,Garlic Powder,Gelatin.*Adds a trivial amount of Fat.']\n",
      "[\"Rosemary Is An Evergreen Herb Native to The Mediterranean Region And Is A Nostalgic Herbal Symbol For Remembrace And Fidelity. Rosemary's Assertive Flavor Blends Well With Garlic to Season Lamb,Chicken And Pork. Use to Flavor Lighter Fish Dishes,Tomato Sauces And Roasted Garlic.\"]\n",
      "['Strawberries,Sugar,Peaches,Dried Peaches (Contains Sulfur Dioxide to Promote Color Retention),Lemon Juice.']\n",
      "['Cinnamon Fragrant aroma and wonderful flavor*NEWLINE*,Used mainly for desserts,fruit preparations and beverages*NEWLINE*,Can also be use in meat stews,rice and vegetables*NEWLINE*,One of the oldest spices known*NEWLINE*,Gluten free']\n",
      "[\"Sugar,Corn Syrup,Artificial Flavor,Gum Arabic,Confectioner's Glaze,Carnauba Wax,Red 40.\"]\n",
      "['Beef,Water,Seasoning (Dehydrated Potatoes [Sodium Bisulfite], Hydrolyzed Corn, Wheat*, And Soy Proteins* {Torula Yeast, Monosodium Glutamate, Natural Flavors, Onion Powder, Sugar}, Nonfat Dry Milk*, Salt, Spice),Hydrolyzed Vegetable Protein (Hydrolyzed Soy Protein*, Hydrolyzed Wheat Gluten*, And Yeast Extract),. *Contains Milk,Soybeans,Wheat.']\n",
      "['Garlic Cloves,Water,Salt Lactic Acid.']\n",
      "['Pine Nuts.']\n",
      "['Raspberry*,Apple Juice*,Pectin.*From organic farming.']\n",
      "['Guajillo Chili Pods.']\n",
      "['Pork,Maltodextrin,Salt,Paprika,Water,Citric Acid,Spices,Sugar,Wine,Garlic,Extractives of Paprika,Sodium Erythorbate,Sodium Nitrite,Natural Smoke Flavor.']\n",
      "['Mussels,Water,Vinegar,Sugar,Salt,Spices,Citric Acid. May Contain Shell Fragments.']\n",
      "['Tomatoes,Water,Seedless Raspberry Puree,Brown Sugar,Green Chile Peppers,Sweet Green Peppers,Onions,Distilled Vinegar,Corn Starch,Salt,Jalapeno Peppers,Garlic,Chipotle Pepper,Spices,Cilantro,Ancho Chile Pepper.']\n",
      "['Sea Salt,Garlic,Spices,Onion,Red Bell Pepper and Red Pepper. All natural.,Made with 100 sea salt.,Rub into beef or pork roasts or season mushrooms,bell peppers and potatoes,Gluten free.']\n",
      "['Sugar,High Fructose Corn Syrup,Crisp Rice,Partially Hydrogenated Vegetable Oil (Palm Kernel And Soybean Oil),Vegetable Oil (Cocoa Butter, Palm, Shea, Sunflower And/Or Safflower Oil),Partially Defatted Peanuts,Nonfat Milk,Chocolate,Partially Hydrogenated Coconut Oil,Corn Syrup Solids,Whey (Milk),Contains 2% Or Less of: Dairy Butter (Milk),Milk Fat,Salt,Mono- And Diglycerides,Soy Lecithin,Molasses,Barley Malt,Vanillin,Artificial Flavor,Disodium Phosphate. Contains Milk,Soy,And Peanut.']\n",
      "[\"Sugar,Corn Syrup,Modified Food Starch,Contains 2% or Less of the Following Apple Juice Concentrate,Grape Juice Concentrate,Lemon Puree,Cherry Juice Concentrate,Orange Puree,Citric Acid,Fumaric Acid,Sodium Citrate,Sodium Lactate,Natural and Artificial Flavors,Color Added,Red 40 Lake,Blue 1 & 2 Lake,Yellow 5 & 6 Lake,Beeswax,Carnauba Wax,Confectioner's Glaze.\"]\n",
      "['Fruit Syrup,Red Raspberries,Lemon Juice Concentrate,Fruit Pectin.']\n",
      "['100% Organic Cinnamon']\n",
      "['Garlic Powder']\n",
      "['Potatoes (Mono Diglycerides Sodium Acid Pyrophosphates),Potato Starch,Onions,Matzo Meal (Passover Wheat flour Water),Cottonseed Oil,Salt,Potassium Chloride.']\n",
      "['Sea Salt,Yellow Prussiate of Soda. Does Not Supply Iodide. Pure,Distinctive flavor,Dissolves quickly upon contact with moisture,Harvested from the waters of the Pacific Ocean,Kosher']\n",
      "['Unbleached Wheat Flour,Salt,Dextrose,Minced Onion*,Natural Flavor (Flavor, Salt, Yeast Extract, and Maltodextrin),Ground Chili Peppers*,Onion Powder,Spices and Spice Extracts,Soybean Oil,Garlic Powder,Paprika Extract (for Color and Flavor),Paprika Extract (for Color and Flavor),Paprika,and Parsley*.*Dehydrated.']\n",
      "['Certified Gluten-Free Oats,Evaporated Cane Juice,Almonds,Raisins (Raisin, Sunflower Oil),Canola Oil,Coconut,Sunflower Seeds,Vanilla,Flaxseed,Cinnamon,Sea Salt.']\n",
      "['Corn Syrup,Sugar,Modified Food Starch (Corn),Artificial Flavor,Red 40.']\n",
      "['Fruit Syrup,Boysenberries,Water,Lemon Juice Concentrate,Fruit Pectin.']\n",
      "['Cinnamon Quills Or Sticks Are An Ancient Spice With Culinary Roots Dating To Pre-Biblical Times. Today,Spice Islands Selects Only The Finest-Quality Whole Cinnamon For Our Cinnamon Sticks. Use Cinnamon Sticks To Add A Festive Note And Aromatic Flavor To Spiced Cider,Tea And Coffee. Cinnamon Sticks Also Add Depth To Stewed Meat,Soups,Pickles,Puddings And Compotes. Try A Cinnamon Stick In Homemade Apple Pie,Cranberry Or Blueberry Sauce. Add A Cinnamon Stick While Heating Milk To Make Custard,Vanilla Sauce Or Pudding.']\n",
      "['100% Whole Grain Brown Rice Flour,Milled Golden Flax Seed.']\n",
      "['Crab Meat (Crustacean Shellfish),Water,Salt,Citric Acid (Ph Regulator),Monosodium Glutamate,Sodium Sulfite (Whitening Agent),.']\n",
      "['Mustard,Turmeric.']\n",
      "['Sardines,Tomato Sauce,Spices and Salt.']\n",
      "['Spices,Oregano,Basil,Rosemary,Parsley,Marjoram,Soybean Oil.']\n",
      "['Tomatoes (Organic),(Tomatoes (Organic), Tomato Juice (Organic), Citric Acid, Calcium Chloride),Tomato Puree (Organic),(Water, Tomato Paste (Organic)),Onions (Organic),Green Bell Peppers (Organic),Red Bell Peppers (Organic),Sea Salt,Jalapenos (Organic),Dried Cane Syrup (Organic),Vinegar (Organic),Cilantro (Organic),Spices (Organic),.']\n",
      "['Certified Gluten-Free Oats,Brown Sugar,Raspberries,Strawberries,Cinnamon.']\n",
      "['Octopus,Soy and Olive Oil,Salt Added.']\n",
      "['Originally Discovered In The Fabled Spice Islands,We Now Travel To The West Indies To Bring You This Premium-Quality Aromatic Ground Nutmeg. We Carefully Select Superior Nutmeg Nuts To Dry And Grind For Use In This Convenient Shaker. Ground Nutmeg Is A Traditional Favorite In Home Baking And Is Especially Complementary In Sweet Breads,Cakes,Muffins,Cookies And Fruit Pies. Add To Creamy Soups,Pasta And Vegetable Sauces And Eggnog.']\n",
      "['Whole Allspice.']\n",
      "['Cream Solids (Milk),Nonfat Dry Milk,Butter (Cream (Milk), Salt),Garlic,Salt,Modified Corn Starch,Onion,Herb and Spice,Xanthan Gum,Silicon Dioxide (Added to Make Free Flowing),Cultured Whey (Milk),Soy Lecithin,and Annatto Extract.']\n",
      "['Crab Meat,Water,Salt,Salt Sodium Acid Pyrophosphate (to Maintain Flavor And Firmness),Citric Acid,Calcium Disodium Edta (to Retain Color),Sodium Sulfite (Preservative),.']\n",
      "['Filtered Water,Sugar,Citric Acid,Tea,Natural Flavors.']\n",
      "['Milk Chocolate (Sugar, Chocolate, Cocoa Butter, Nonfat Milk, Lactose, Milkfat, Soy Lecithin, Vanillin--An Artificial Flavor),Crisped Rice (Rice Flour, Sugar, Barley Malt, Salt),. Contains: Milk And Soy Ingredients. May Contain: Peanuts,Nuts And Wheat.']\n",
      "['Peppers,Soybean Oil,Celery,Olives,Vinegar,Salt,Spices.']\n",
      "['Salt, Red Pepper, Sage, Sugar and Black Pepper,Salt,Red Pepper,Sage,Sugar and Black Pepper']\n",
      "['Certified Gluten Free Oats, Cane Sugar, Flax Meal, Natural Flavors, Chia Seeds, Quinoa, Amaranth, Sea Salt,Certified Gluten Free Oats, Cane Sugar, Flax Meal, Freeze Dried Strawberries, Chia Seeds, Quinoa, Amaranth, Natural Flavors, Sea Salt.']\n",
      "['Almonds,dates,chocolate chunks (Evaporated Cane Juice; Chocolate Liquor; Non-Dairy Cocoa Butter),pecans,unsweetened applesauce,organic coconut oil,molasses,maple syrup,vanilla extract,cinnamon,salt,baking soda.']\n",
      "['Guava Pulp,Refined Sugar,Citric Acid,FDC Red 3,FDC Red 40,Pectin.']\n",
      "['Milk Chocolate (Sugar, Cocoa Butter, Chocolate Processed With Alkali, Milk, Lactose, Milkfat, Natural and Artificial Flavors, Soy Lecithin),Raisins,Peanuts,Tbhq and Citric Acid']\n",
      "['Enriched Flour (Wheat Flour, Niacin, Reduced Iron, Thiamine Mononitrate, Riboflavin, and Folic Acid),Vegetable Oil (Contains Partially Hydrogenated Cottonseed and/or Soybean Oil),Salt,Corn Syrup,Yeast,Malt Extract,Sodium Bicarbonate,and Ammonium Bicarbonate.']\n",
      "['100 Pure Coffee.']\n",
      "['Unbleached Enriched Flour (Wheat Flour, Niacin, Reduced Iron, Thiamine Mononitrate Vitamin B1, Riboflavin Vitamin B2, Folic Acid),Whole Grain Wheat Flour,Soybean Oil,Sugar,Partially Hydrogenated Cottonseed Oil,Leavening (Calcium Phosphate and/or Baking Soda),Salt,High Fructose Corn Syrup,Soy Lecithin.']\n",
      "['Unbleached Enriched Flour (Wheat Flour, Niacin, Reduced Iron, Thiamine Mononitrate Vitamin B1, Riboflavin Vitamin B2, Folic Acid),Soybean Oil,Sugar,Partially Hydrogenated Cottonseed Oil,Salt,Leavening (Baking Soda and/or Calcium Phosphate),High Fructose Corn Syrup,Soy Lecithin,Malted Barley Flour,Natural Flavor.']\n",
      "['ENRICHED FLOUR (WHEAT FLOUR, NIACIN, REDUCED IRON, THIAMIN MONONITRATE [VITAMIN B1], RIBOFLAVIN [VITAMIN B2], FOLIC ACID),VEGETABLE OIL (SOYBEAN AND PALM OIL WITH TBHQ FOR FRESHNESS),CHEESE MADE WITH SKIM MILK (SKIM MILK, WHEY PROTEIN, CHEESE CULTURES, SALT, ENZYMES, ANNATTO EXTRACT FOR COLOR),CONTAINS TWO PERCENT OR LESS OF SALT,PAPRIKA,YEAST,PAPRIKA OLEORESIN FOR COLOR,SOY LECITHIN.']\n",
      "['Coffee, Artificial Flavor.,Coffee,Natural and Artificial Flavor.']\n",
      "['Cashews,Dried Apples (Apples, Sugar, Natural Pomegranate Flavor, Citric Acid, Fruit Vegetable Juice (for Color)),Organic Evaporated Cane Juice,Organic Tapioca Syrup,Brown Sugar,Natural Vanilla Extract,Sea Salt,Dried Pomegranate Juice Concentrate,Dried Orange Peel,Pure Ground Vanilla Beans.']\n",
      "['Pistachios,Salt.']\n",
      "['Basmati Rice.']\n",
      "['Sugar,Water,Partially Hydrogenated Soybean and/or Cottonseed Oil,Sodium Caseinate (a Milk Derivative),**,and Less than 2 of Natural and Artificial Flavors,Propylene Glycol,Dipotassium Phosphate,Polysorbate 60,Sodium Stearoyl Lactylate,Color Added,Sucralose (Non-Nutritive Sweetener),. ** Not a Source of Lactose.']\n",
      "['White bean flour, rice blend (rice flour, brown rice), dehydrated potato, organic sunflower oil, chia powder, organic evaporated cane juice, organic red bell pepper powder, sea salt, organic tapioca solids, organic onion powder, organic tomato powder, organic garlic powder, natural flavor, organic spices, natural extractives of paprika, citric acid,White Bean Flour,Rice Blend (Rice Flour, Brown Rice),Dehydrated Potato,Organic Sunflower Oil,Tapioca Flour,Quinoa Flour,Lentil Flour,Chia Powder,Organic Evaporated Cane Juice,Organic Red Bell Pepper Powder,Sea Salt,Organic Tapioca Solids,Organic Onion Powder,Organic Tomato Powder,Organic Garlic Powder,Natural Flavor,Organic Spices,Natural Extractives of Paprika,Citric Acid.']\n",
      "['Sugar,Corn Syrup,Natural And Artificial Flavors,Us Certified Colors Including Yellow 5,Yellow 6,Blue 1,Red 3 Red 40.']\n",
      "['Contains: Paprika,Cumin,Cayenne Pepper,Garlic,Parsley,Oregano and Black Pepper.']\n",
      "[\"Sucrose,Corn Syrup,Artificial Flavor,Acacia (Gum Arabic),Confectioner's Glaze,Carnauba Wax*,Red 40,White Mineral Oil*. *Adds A Trivial Amount of Fat.\"]\n",
      "['For Pez Candy (Except Chocolate),: Sugar,Corn Syrup,Adipic Acid,Hydrog. Palm Kernel & Palm Oils and Soybean Oil,Mono & Diglycerides,Natural & Artificial Flavors,Artificial Colors FD&C Red 3,Yellow 5,Yellow 6,Blue 2,Cola also Contains Sodium Bicarb.,Color. For Pez Chocolate Flavored Candy: Sugar,Corn Syrup,Hydrog. Palm Kernel & Palm Oils and Soybean Oil,Mono & Diglycerides,Artificial Flavor,Color.']\n",
      "['Milk,Salt,Cheese Culture,Rennet,P. Roqueforti.']\n",
      "['Popcorn,Vegetable Oil (Corn, Canola and/Or Sunflower Oil),Cheddar Cheese (Milk, Cheese Cultures, Salt, Enzymes),Whey,Buttermilk and Salt.']\n",
      "['Enriched Flour (Wheat Flour, Malted Barley Flour, Niacin, Reduced Iron, Thiamine Mononitrate, Riboflavin, Folic Acid),Water,Sugar,Liquid Sugar (Sugar, Water),Butter (Pasteurized Cream, Salt),Eggs,Contains Less Than 2% of Each of The Following: Potato Flour,Yeast,Whey,Nonfat Milk,Soy Flour,Salt,Degerminated Yellow Corn Flour,Wheat Gluten,Sodium Stearoyl Lactylate,Datem,Monocalcium Phosphate,Wheat Flour,Calcium Sulfate,Sodium Silicoaluminate,Ascorbic Acid Added As A Dough Conditioner,Ammonium Sulfate,Wheat Starch,Sorbitan Monostearate,Enzymes,Microcrystalline Cellulose,Calcium Silicate. Contains: Wheat,Milk,Eggs,Soy.']\n",
      "['Water,High Fructose Corn Syrup,Natural Flavors,Citric Acid,Sodium Hexametaphosphate (to protect taste),Phosphoric Acid,Red Rooibos Tea Powder,Potassium Sorbate and Sodium Benzoate (to protect Taste),Sucralose,Calcium Disodium EDTA (to protect taste),Vitamin B6 (Pyridoxine Hydrochloride),Red 40,Vitamin B12 (Cyanocobalamin),.']\n",
      "['Whole Grain Wheat Flour,Soybean Oil,Sugar,Cornstarch,Malt Syrup (from Corn and Barley),Invert Sugar,Salt,Vegetable Color (Annatto Extract, Turmeric Oleoresin),. BHT Added to Packaging Material to Preserve Freshness.']\n",
      "['Salt,Granulated Garlic,Tricalcium Phosphate (Prevents Caking),Oregano,Turmeric.']\n",
      "['Heavy Cream,Sugar,Contains Less Than 1% of: Artificial Flavor,Mono And Diglycerides,Polysorbate 80,Carrageenan,Mixed Tocopherols (Vitamin E),to Protect Flavor,Propellant: Nitrous Oxide. Allergy Warning: Contains Milk.']\n",
      "['Heavy Cream,Sugar,Contains Less Than 1% of: Artificial Flavor,Mono And Diglycerides,Polysorbate 80,Carrageenan,Mixed Tocopherols (Vitamin E),to Protect Flavor,Propellant: Nitrous Oxide. Allergy Warning: Contains Milk.']\n",
      "['Organic Raw Coconut (100),.']\n",
      "['MILK,CHOCOLATE (SUGAR,COCOA BUTTER,CHOCOLATE,SKIM MILK,LACTOSE,MILK FAT,SOY LECITHIN,ARTIFICIAL FLAVOR),PEANUTS,SUGAR,INVERT SUGAR,HYDROGENATED PALM KERNEL OIL AND/OR PALM OIL,CORN SYRUP,LESS THAN 2% - PALM OIL,BUTTER,MILKFAT,PARTIALLY HYDROGENATED SOYBEAN OIL,SALT,POTASSIUM SORBATE TO MAINTAIN FRESHNESS,ARTIFICIAL FLAVOR.,Milk Chocolate (Sugar, Cocoa Butter, Chocolate, Skim Milk, Lactose, Milkfat, Soy Lecithin, Artificial Flavor),Peanuts,Sugar,Invert Sugar,Hydrogenated Palm Kernel Oil and/or Palm Oil,Corn Syrup,Skim Milk,Less than 2% - Palm Oil,Butter,Milkfat,Partially Hydrogenated Soybean Oil,Salt,Soy Lecithin,Potassium Sorbate to Maintain Freshness,Artificial Flavor.']\n",
      "['Cream,Milk,Sugar,Dextrose,Contains Less Than 1% of: Sorbitan Monostearate,Artificial Flavor,Carrageenan,Mixed Tocopherols (Vitamin E),to Protect Flavor,Propellant: Nitrous Oxide. Allergy Warning: Contains Milk.']\n",
      "['Enriched Egg Noodles (Wheat Flour, Eggs, Niacin, Reduced Iron, Thiamine Mononitrate, Riboflavin, Folic Acid),Sugar,Soy Sauce (Wheat, Soybeans, Salt),Modified Corn Starch,Chow Mein Flavor (Citric Acid, Roasted Sesame Oil, Onions),Salt,Partially Hydrogenated Soybean Oil,Bell Peppers,Mushrooms,Monosodium Glutamate,Malic Acid,Tofu (Soybean, Calcium Sulfate),Vinegar,Caramel (Color),Spices.']\n",
      "['Water,Carp,Whitefish,Egg Whites,Sugar,Mullet,Matzo Meal (Passover Wheat Flour and Water),Onion,Salt,Pike,Monosodium Glutamate,Xanthan Gum,Carob Seed Gum,Pepper,Natural Flavorings.']\n",
      "['Enriched Flour (Wheat Flour, Niacin, Reduced Iron, Vitamin B1 [Thiamin Mononitrate] Vitamin B2 [Riboflavin], Folic Acid), Sugar, Soybean and Palm Oil (with TBHQ for Freshness), Corn Syrup, Dextrose, High Fructose Corn Syrup, Cracker Meal, Contains Two Percent or Less of Molasses, Salt, Calcium Carbonate, Leavening (Baking Soda, Sodium Acid Pyrophosphate, Monocalcium Phosphate), Cinnamon, Wheat Starch, Gelatin, Caramel Color, Soy Lecithin, Vitamin A Palmitate, Niacinamide, Reduced Iron, Vitamin B6 (Pyridoxine Hydrochloride), Vitamin B2 (Riboflavin), Vitamin B1 (Thiamin Hydrochloride).']\n",
      "['Mustard Leaves,Onion,Ginger,Garlic,Chillies,Salt,Cornflour and Vegetable Oil.']\n",
      "['Salmon,Salt,Spices,Natural Alder Smoke.']\n",
      "['Corn Syrup,Sugar,Apple Puree Concentrate,Water,Modified Cornstarch,Gelatin,Contains Two Percent Or Less of Citric Acid,Ascorbic Acid (Vitamin C),Natural And Artificial Flavors,Coconut Oil*,Carnauba Wax,Red #40,Yellow #5,Sodium Citrate,Blue #1. *Adds A Trivial Amount of Fat.']\n",
      "['Apples,Corn Syrup,Sugar,Pecans,Lemon Juice,Spices.']\n",
      "['sugar,blueberries,jalapenos,water,fruit pectin,citric acid Volume: 1 PT. (16 Fl Oz.),(473ml),Fat Free,Sodium Free,50 calories per serving Daves Specialty Foods is a division of Daves Christmas Wonderland Olde World Market,a WNY tradition and world famous Christmas Store,based in Cheektowaga,NY and serving Buffalo and the WNY area for over 33 years. We are proud to share Buffalos rich ethnic heritage and traditions with our specialty food products.Closely guarded old family recipe Open kettle processing (made in small batches),for superior flavor Homemade in Saegertown,Pa in the heart of Amish country Reg. PA Department of Agriculture and FDA inspected This sweet fresh blueberry jam has a spicy jalapeno kick that will add more flavor than all your other spreads and jams Ingredients: sugar,blueberries,jalapenos,water,fruit pectin,citric acid Volume: 1 PT. (16 Fl Oz.),(473ml),Fat Free,Sodium Free,50 calories per serving Daves Specialty Foods is a division of Daves Christmas Wonderland Olde World Market,a WNY tradition and world famous Christmas Store,based in Cheektowaga,NY and serving Buffalo and the WNY area for over 33 years. We are proud to share Buffalos rich ethnic heritage and traditions with our specialty food products.']\n",
      "['grapes,white grape juice,water,sugar-free pectin,citric acidVolume: 1 PT. (16 Fl Oz.),(473ml),Fat Free,Sodium Free,No Sugar AddedDaves Specialty Foods is a division of Daves Christmas Wonderland & Olde World Market,a WNY tradition and world famous Christmas Store,based in Cheektowaga,NY and serving Buffalo and the WNY area for over 33 years. We are proud to share Buffalos rich ethnic heritage and traditions with our specialty food products.No Sugar Added Grape Fruit SpreadItem #DMG BYLERS 231Closely guarded old family recipeOpen kettle processing (made in small batches),for superior flavorHomemade in Saegertown,PA in the heart of Amish CountryReg. PA Department of Agriculture and FDA inspectedThis jelly is just as delicious as our regular flavor,but has 40% less sugar! Real fruit is blended with white grape juice to preserve tasteIngredients: grapes,white grape juice,water,sugar-free pectin,citric acidVolume: 1 PT. (16 Fl Oz.),(473ml),Fat Free,Sodium Free,No Sugar AddedDaves Specialty Foods is a division of Daves Christmas Wonderland & Olde World Market,a WNY tradition and world famous Christmas Store,based in Cheektowaga,NY and serving Buffalo and the WNY area for over 33 years. We are proud to share Buffalos rich ethnic heritage and traditions with our specialty food products.']\n",
      "['Soybean Oil,Water,Eggs,Egg Yolks,Vinegar,Contains Less than 2 of Sugar,Salt,Lemon Juice Concentrate,Calcium Disodium EDTA as a Preservative,Dried Garlic,Dried Onions,Spice,Natural Flavor.']\n",
      "['Wheat Flour,Vegetable Oil (Palm Kernel Oil, Palm Oil, Corn Oil, and/or Hydrogenated Palm Oil),Whey,Maltodextrin,Sugar,Food Starch-Modified,Salt,Less than 1.5 - Bakers and Cheddar Cheese (Milk, Cultures, Salt, Enzymes),Leavening (Baking, Soda, Sodium Acid Pyrophosphate),Dextrose,High Fructose Corn Syrup,Soy Lecithin,Coloring (Yellow 5 Lake, Yellow 6 Lake, Blue 1 Lake),Natural Flavors,Hydrolyzed Corn Gluten,Lactic Acid,Yeast Extract,Lactose,Buttermilk Citric Acid.']\n",
      "['Spices Including Turmeric,Salt,Dehydrated Onion.']\n",
      "['Paprika,and Silicon Dioxide! (Added to Make Free Flowing),.']\n",
      "['Consist of Chocolate (Sugar Chocolate, Chocolate Processed with Alkali, Cocoa Butter, Whole Milk, Milk Fat, Soy Lecithin/an Emulsifier, Vanillin/an Artificial Flavor),Sugar,Corn Syrup,Condensed Milk,Dairy Cream,Invert Sugar,Partially,Hydrogenated Palm Kernel Oil,Brown Sugar,Coconut with Sodium Metabisulfite,Nuts (Walnuts, Almonds, Pecans),Peanut Butter (Peanuts, Hydrogenated Vegetable Oils (Rapeseed, Cottonseed, Soybean), And Salt),Molasses,Cherries (Cherries, Corn Syrup, Water, Sugar, Citric Acid, Natural and Artificial Flavors, Preserved with Sodium Benzoate, Potassium Sorbate and Sulfur Dioxide, FDC Red 40),Salt,Sorbitol,Apricots with a Trace of Sulfur Dioxide,Cocoa Powder,Natural and Artificial Flavors,Egg Albumen,Raisins,Honey,Butter,Maple Sugar,Invertase (An Enzyme),Soy Lecithin/an Emulsifier,Spice,Tapioca Flour,FDC Colors (Red 40, Blue 1, Yellow 5 6),Carmine Color,Sodium Benzoate (Preservative),and Tocopherols (a Natural Antioxidant),.']\n",
      "['Corn Meal,Partially Hydrogenated Soybean Oil,Peanut Oil,Maltodextrin,Whey,Palm Oil,Buttermilk Solids,Cheddar Cheese (Pasteurized Milk, Cheese Culture, Salt, Enzymes),Salt,Monosodium Glutamate,Sodium Phosphate,Natural Flavor (Contains Milk),Artificial Flavor,Autolyzed Yeast Extract,Lactic Acid,Yellow 5,Yellow 6,Disodium Inosinate,Disodium Guanylate.']\n",
      "['100 Arabica Coffee.']\n",
      "['Cold Pressed Sesame Oil.']\n",
      "['Peas,Water,Sugar,Sea Salt.']\n",
      "['Enriched Bleached Wheat Flour (Wheat Flour, Niacin, Iron, Thiamin Mononitrate, Riboflavin, Folic Acid),Baking Powder (Baking Soda, Sodium Aluminum Phosphate, Monocalcium Phosphate),Salt,Calcium Sulfate. Contains Wheat']\n",
      "['Fine Black Tea Expertly Selected from the Anhui Province in China and Sri Lanka.']\n",
      "['Cereal (Rice, Whole Grain Wheat, Sugar, Wheat Bran, Soluble Wheat Fiber, Salt, Malt Flavoring, Maltodextrin, Thiamin Mononitrate Vitamin B1, Riboflavin Vitamin B2),Corn Syrup,Soluble Corn Fiber,Fructose,Strawberry Flavored Fruit Pieces (Sugar, Cranberries, Citric Acid, Natural Strawberry Flavor With Other Natural Flavors, Elderberry Juice Concentrate For Color, Sunflower Oil),Sugar,Vegetable Oil (Soybean and Palm Oil With Tbhq For Freshness, Partially Hydrogenated Palm Kernel Oil),*,Maltodextrin,Contains Two Percent Or Less of Dextrose,Sorbitol,Glycerin,Nonfat Dry Milk,Natural and Artificial Strawberry Flavor,Soy Lecithin,Salt,Natural and Artificial Flavor,Niacinamide,Color Added,Pyridoxine Hydrochloride (Vitamin B6),BHT (Preservative),. *Less Than 0.5g Trans Fat Per Serving. Contains Wheat,Milk and Soy Ingredients.']\n",
      "['White Chocolate [Sugar,Cocoa Butter,Milk,Skim Milk,Soya Lecithin (Emulsifier),Vanillin (Artificial Flavoring),],Vegetable Oil (Coconut, Palm Kernel),Sugar,Cocoa Butter,Milk,Skim Milk,Peppermint Pieces (Sugar, Beet Juice Concentrate, Peppermint Oil, Turmeric Color),Soya Lecithin (Emulsifier),Peppermint Oil,Artificial Flavors. May Contain Peanuts/Tree Nuts.']\n",
      "[\"Soybean Oil,Water,Sugar,Egg Yolk,Salt,Parmesan Cheese (Pasteurized Part-Skim Milk, Cheese Cultures, Salt, Enzymes),Cultured Nonfat Buttermilk,Vinegar,Soy Sauce (Water, Wheat, Soybeans [Soy], Salt),Spices,Less than 1% of Romano Cheese from Cow's Milk (Pasteurized Part-Skim Milk, Cheese Cultures, Salt, Enzymes),Dried Onion,Dried Garlic,Tamarind Molasses,Phosphoric Acid,Natural Flavor,Monosodium Glutamate,Maltodextrin,Corn Syrup,Caramel Color,Xanthan Gum,Disodium Phosphate,Artificial Flavor,Disodium Inosinate,and,Guanylate,with Sorbic Acid and Calcium Disodium EDTA as Preservatives.\"]\n",
      "['Dehydrated Navy Beans,Pasta (Durum Wheat Semolina (Niacin, Ferrous Sulfate, Thiamine Mononitrate, Riboflavin added)),Dehydrated Vegetables (Carrots, Tomato, Garlic, Peas, Zucchini, Broccoli, Celery, Onion, Parsley),Corn Cereal Solids,Salt,Maltodextrin,Monosodium Glutamate,Sugar,Hydrolyzed Corn Gluten,Partially Hydrogenated Soybean,Cottonseed Corn Oil,Autolyzed Yeast Extract,Sunflower Oil,Dehydrated Chicken Meat,Spices,Turmeric,Disodium Inosinate,Disodium Guanylate,Sodium Bisulfite to preserve Freshness,Sodium Aluminosilicate (Anti-Caking agent),.']\n",
      "['Corn Flour,Sugar,Whole Grain Oat Flour (Includes the Oat Bran),Brown Sugar Syrup,(Coconut Oil and/or Canola Oil and/or Partially Hydrogenated Soybean Oil),Salt,Strawberry Juice Concentrate,Sodium Citrate,Natural and Artificial Flavor,Malic Acid,Yellow 5 6,Red 3 40,Blue 1,Soy Lecithin.Vitamins Minerals: Vitamin B1(Thiamin Mononitrate),Vitamin B2 (Riboflavin),Niacin(Niacinamide),Vitamin B6(Pyridoxine Hydrochloride),Folic Acid,Vitamin B12,Vitamin A Palmitate,Vitamin C(Sodium Ascorbate),Vitamin D,Reduced Iron,Zinc(Zinc Oxide),.']\n",
      "['Pre-Washed Quinoa.']\n",
      "['Selected Cucumbers,Water,Acetic Acid,Salt,Spices.']\n",
      "['Prepared Great Northern Beans,Water,Salt,and Calcium Chloride.']\n",
      "['Enriched Flour (Wheat Flour, Niacin, Reduced Iron, Thiamin Mononitrate, Riboflavin, And Folic Acid),Corn Oil,Corn Syrup,Salt,And Less Than 2% of The Following: Maltodextrin (Made from Corn And Potato),Garlic Powder,Natural Flavors,Ammonium Bicarbonate,Cheddar Cheese (Milk, Cheese Cultures, Salt, Enzymes),Buttermilk,Onion Powder,Yeast Extract,Yeast,Spice,Lactic Acid,Sunflower Oil,Sodium Phosphate,Calcium Lactate,Gum Arabic,Butter Oil,Xanthan Gum,And Lactose. Contains Wheat And Milk Ingredients.']\n",
      "['Enriched Bleached Flour (Wheat Flour, Malted Barley Flour, Niacin, Reduced Iron, Thiamin Mononitrate, Riboflavin, Folic Acid),.']\n",
      "['Spring Water,CO2,Natural Flavors.']\n",
      "['Water,Onion,Red Bell Pepper,Raisins,Sugar,Corn Starch,Concentrated Tomato Puree,Creamed Coconut,Spices,Turmeric (Color),Vinegar,Sea Salt,Desiccated Coconut,Garlic.']\n",
      "['Linden Leaves Orange Leaves.']\n",
      "['Sugar,Enriched Bleached Flour (Wheat Flour, Niacin, Reduced Iron, Thiamin Mononitrate, Riboflavin, Folic Acid),Whey (Milk),Eggs,Corn Syrup,Palm Oil,Dextrose,High Fructose Corn Syrup,Partially Hydrogenated Palm Kernel Oil,Contains 2% Or Less of Each of The Following: Cocoa (Natural And Processed With Alkali),Glycerine,Cocoa Powder,Emulsifiers (Propylene Glycol Monostearate, Monoglycerides, Stearoyl Lactylic Acid),Cornstarch,Caramel Color,Salt,Modified Food Starch,Malt Extract,Leavening (Sodium Acid Pyrophosphate, Monocalcium Phosphate, Baking Soda),Mono- And Diglycerides,Guar Gum,Polysorbate 60,Soy Lecithin,Xanthan Gum,Vanillin (An Artificial Flavor),Maltodextrin,Partially Hydrogentated Soybean Oil,Natural And Artificial Flavor,FD&C Red #40. Preserved With Sorbic Acid,Sodium Propionate,And Potassium Sorbate. Manufactured In A Facility That Also Processes Products Containing Tree Nuts.']\n",
      "['Water,Beef,Beans,Contains 2 Or Less of Textured Vegetable Protein (Soy Flour, Caramel Color),Tomato Paste,Salt,Spices,Wheat Flour Enriched With (Niacin, Iron, Thiamine Mononitrate, Riboflavin, Folic Acid),Food Starch-Modified,Hydrolyzed Soy Protein,Monosodium Glutamate,Sugar,Paprika,Flavorings,Citric Acid. Contains Soy,Wheat']\n",
      "['Organic Arborio Rice,Organic Parmesan Cheese (Organic Pasteurized Milk, Salt, Cheese Cultures, Enzymes),Sea Salt,Organic Nonfat Milk,Organic Buttermilk Powder,Organic Dried Cane Syrup,Organic Dried Garlic,Organic Dried Onion,Organic Parsley Flakes,Organic Spices (Pepper, Nutmeg),Citric Acid,Organic Natural Cheese Flavor,Organic Sunflower or Safflower Oil,Organic Turmeric.']\n",
      "['Orange Juice from Concentrate (Filtered Water and Concentrated Orange Juice),Natural Flavor.']\n",
      "['Central American Red Beans. May Contain Soybean and Wheat.']\n",
      "['Spices']\n",
      "['Our Real Tea Starts with the Finest Tea Leaves and is made from: Filtered Water,Citric Acid,Tea,Aspartame,Potassium Citrate,Natural Flavors.']\n",
      "['Sugar,Partially Hydrogenated Vegetable Oil (Soybean, Cottonseed),Water,Corn Syrup,Modified Cornstarch,Salt,Cornstarch,Mono- and Diglycerides,Natural and Artificial Flavor,Potassium Sorbate (Preservative),Red 40 Lake,Polysorbate 60,Citric Acid,Soy Lecithin,Red 3.']\n",
      "['Dehydrated Garlic,Salt,Spices,Paprika (As Color),Dehydrated Onion,Red Pepper.']\n",
      "['Golden Hominy.']\n",
      "['Hawaiian Punch Fruit Juicy Red: Water,High Fructose Corn Syrup and less than 2 of: Concentrated Juices (Apple, Clarified Pineapple, Passionfruit, Orange),Fruit Purees (Apricot, Papaya, Guava),Ascorbic Acid (Vitamin C),Citric Acid,Natural and Artificial Flavors,Pectin,Acacia Gum,Red 40,Blue 1,Sucralose. Pizza Crust: Enriched Bleached Wheat Flour (Flour, Niacin, Reduced Iron, Thiamine Mononitrate, Riboflavin, Folic Acid),Water,Vegetable Shortening (Interesterified Soybean Oil. Hydrogenated Soybean Oil),contains 2 or less of Yeast,Sugar,Salt,Calcium Propionate,Monoglycerides,Vegetable Gums (Corn Starch, Guar Gum, Xanthan Gum),. Nestle Crunch Bars: Milk Chocolate (Sugar, Chocolate, Cocoa Butter, Nonfat Milk, Milkfat, Lactose, Soy Lecithin, Vanilla-an Artificial Flavor),Crisped Rice (Rice Flour, Sugar, Barley Malt, Salt),. Low-Moisture Part-Skim Mozzarella Cheese: Cultured Pasteurized Part-Skim Milk,Salt,Enzymes,Potato Starch and Powdered Cellulose (to prevent caking),Natamycin (a natural mold inhibitor),. Pizza Sauce: Water,Tomato Paste,High Fructose Corn Syrup,Modified Food Starch,Salt,Spices,Citric Acid,Sodium Benzoate and Potassium Sorbate (preservatives),Garlic Powder,Potassium Chloride,Onion Powder,Natural Flavor. Pepperoni Flavored Sausage: Pork,Mechanically Separated Turkey,Corn Syrup,Water,Pepperoni (Pork, Beef, Salt, contains 2 or less of Dextrose, Flavorings, Lactic Acid Starter Culture, Oleoresin of Paprika, Spices, Sodium Nitrite, Water, BHA, BHT, Citric Acid),Salt,contains 2 or less of Beef,Dextrose,Oleoresin of Paprika,Flavorings,Modified Food Starch,Potassium Lactate,Smoke Flavoring,Sodium Diacetate,Sodium Erythorbate,Sodium Nitrite,BHA,BHT,Citric Acid.']\n",
      "['Carbonated Water,Sucrose,Glucose,Citric Acid,Taurine,Sodium Citrate,Caffeine,Niacinamide,Calcium Pantothenate,Pyridoxine HCI,Vitamin B12,Natural and Artificial Flavors,Sucrose Acetate Isobutyrate,Glycerol Esters of Wood Rosins,Colors.']\n",
      "['Filtered Water,Citric Acid,Natural Flavors,Potassium Sorbate,Potassium Benzoate,Acesulfame Potassium,Sucralose,Magnesium Sulfate,Sodium Citrate,Potassium Chloride,Salt']\n",
      "['Carbonated Water,Citric Acid,Sodium Citrate,Lemon Juice Concentrate,Malic Acid,Aspartame,Modified Food Starch,Sodium Benzoate (Preservative),Potassium Sorbate (Preservation),Caffeine,Natural Flavors,Ester Gum,Calcium Disodium Edta (to Protect Flavor),Yellow 5.']\n",
      "['Long Grain Rice Enriched with Iron (Ferric Orthophosphate),Niacin,Thiamine (Thiamine Mononitrate),and Folic Acid.']\n",
      "['100 Pure Apple Juice,Apple Juice Concentrate,Water and Malic Acid.']\n",
      "['Our Real Tea Starts with the Finest Tea Leaves and is made from: Filtered Water,Sugar,Citric Acid,Tea,Natural Flavors.']\n",
      "['Filtered Water,Sugar,Coconut Water Concentrate,Natural Flavor,Citric Acid,Black Carrot Juice Concentrate (Color),Calcium Lactate,Potassium Citrate,Sea Salt,Reb A (Purified Stevia Extract),Gum Arabic.']\n",
      "['Manzanilla Olives,Water,Pimiento,Salt,Lactic Acid,Sodium Alginate,Guar Gum,Potassium Sorbate as a Preservative and Calcium Chloride.']\n",
      "['Artichoke Hearts,Water,Salt,Citric Acid.']\n",
      "['Sugar,Cocoa Butter,Skim Milk,Chocolate,Hazelnuts (Filberts),Whey,Milkfat,Hazelnut Paste,Soy Lecithin,Artificial Flavor. Contains: Milk,Hazelnut,Soy. Manufactured On Equipment That Processes Other Tree Nuts And Wheat.']\n",
      "['Tomato Concentrate (Water, Tomato Paste),Sea Salt,Spices,Garlic Powder,Citric Acid,Natural Flavor.']\n",
      "['Garlic,Filtered Water,Phosphoric Acid,Xanthan Gum,and Natural Flavor.']\n",
      "['Water,Beef,Textured Vegetable Protein (Soy Flour, Caramel Color),. Contains 2 or Less of: Tomato Paste,Corn Flour,Wheat Flour Bleached,Enriched (Niacin, Iron, Thiamine Mononitrate, Riboflavin, Folic Acid),Malted Barley Flour,Salt,Seasoning (Spice, Salt, Natural Flavor),Modified Corn Starch,Seasoning (Chili Pepper, Spices, Dextrose, Garlic Powder, Onion Powder, Natural Flavor),Sugar,Cornmeal,Dehydrated Onion,Monosodium Glutamate,Seasoning (Sugar, Modified Corn Starch, Salt, Citric Acid),Spices,Paprika,Hydrolyzed Soy Protein,Extractives of Paprika,Flavorings (Soy Lecithin),.']\n",
      "['Water,Canola Oil,Distilled Vinegar,Parmesan Cheese,(Milk, Cultures, Salt, Enzymes, Cream, Water),Sugar,Tapioca Maltodextrin,Salt,Garlic Juice,Non-Fat Dry Milk,Egg Yolks,Lactic Acid,Natural Yeast Extract,Cultured Dairy Solids (Milk, Cultures),Natural Flavors,Spice,Lemon Juice (from Concentrate),Xanthan Gum,Guar Gum,Sodium Alginate,Arabic Gum,Garlic,Onion,and Vitamin E.']\n",
      "['Cucumbers,Water,Distilled Vinegar,Salt,Garlic,Spices,Calcium Chloride,Natural Flavors,Fd&C Yellow 5.']\n",
      "['Water Chestnuts,Water,and Citric Acid.']\n",
      "['Peanut Butter (Peanuts, Salt, Hydrogenated Vegetable Oil Cottonseed Oil, Canola Oil, And/Or Soybean Oil),Enriched Flour (Wheat Flour, Niacin, Reduced Iron, Thiamine Mononitrate Vitamin B1, Riboflavin Vitamin B2, Folic Acid),Sugar,Dextrose,Hydrogenated Palm Kernel Oil,Vegetable Shortening (Palm And Soybean Oil),Contains 2 Or Less of Each of The Following: Cocoa,Water,Soy Lecithin,Soybean Oil,Salt,Ammonium Bicarbonate,Leavening (Sodium Bicarbonate),Cornstarch,Vanillin (An Artificial Flavor),Mono- And Diglycerides,Polysorbate 60,Nonfat Milk,Preserved With Sodium Propionate And Sorbic Acid. Manufactured In A Facility That Also Processes Products Containing Egg.']\n",
      "['Potatoes,Cottonseed Oil and Salt.']\n",
      "['Hearts of Palm,Water,Salt,and Citric Acid.']\n",
      "['Chicken Stock,Chicken Meat,Carrots,Enriched Egg Noodles (Wheat Flour, Egg Whites, Eggs, Niacin, Ferrous Sulfate, Thiamine Mononitrate, Riboflavin, Folic Acid),Celery,Modified Food Starch,Contains Less than 2 of: Water,Chicken Fat,Sauterne Wine,Red Peppers,Yeast Extract,Sugar,Dehydrated Onions,Potassium Chloride,Dehydrated Garlic,Flavoring,Spice,Sodium Phosphate,Beta-Carotene for Color.']\n",
      "['Green Beans,Water,Less Than 1% of: Natural Flavor,Natural Smoke Flavor,Sea Salt,Potato Starch,Dried Cane Syrup,Dried Onion,Apple Cider Vinegar,Garlic Powder and Spice. Process in a facility that also processes peanuts.']\n",
      "['Green Olives,Black Olives,Water,Red Wine Vinegar,Concentrate Grape Juice,Sea Salt,Extra-Virgin Olive Oil,Spice.']\n",
      "['Sugar,Water,Vegetable Oil Shortening (Partially Hydrogenated Soybean and Cottonseed Oils, Mono- and Diglycerides, Polysorbate 60),Corn Syrup,Cocoa Powder Processed With Alkali. Contains 2 Or Less of: Corn Starch,Salt,Nonfat Dry Milk,Cream Powder (Cream, Nonfat Milk, Soy Lecithin),Preservative (Potassium Sorbate),Sodium Acid Pyrophosphate,Citric Acid,Artificial Buttercream Flavor,Lactic Acid,Ascorbic Acid. Contains Milk,Soy.']\n",
      "['Wheat Flour,Corn Syrup,Dextrose,Sugar,Partially Hydrogenated Soybean Oil,High Fructose Corn Syrup,Modified Whey,Skim Milk,Cream,Mono And Diglycerides,Salt,Soy Lecithin,Corn Starch,And Artificial Flavor. Contains Wheat,Milk,And Soy Ingredients.']\n",
      "['White Wine Vinegar,Grape Musts.']\n",
      "['Cane Sugar,Mustard Flour,Apple Cider Vinegar,Canola Or Soybean Oil,Corn Syrup,Water,Molasses,Honey,Natural Flavors,Spice Extract.']\n",
      "['Dark Chocolate [Sugar,Chocolate Liquor,Cocoa Butter,Soy Lecithin (Added As An Emulsifier),Vanilla Extract],Corn Syrup,Sugar,Pectin,Blueberry Juice Concentrate,Natural Flavor,Malic Acid,Sodium Citrate. May Contain Trace Amount of Milk Chocolate. Manufactured In A Facility That Processes Peanuts and Tree Nuts.']\n",
      "['Milk Chocolate (Sugar, Cocoa Butter, Chocolate, Nonfat Milk, Milk Fat, Lactose, Salt, Lecithin (Soy), Natural Flavor),Sugar,Dairy Butter (Milk),Almonds,Contains 2 Or Less of: Sweetened Condensed Milk (Milk, Sugar),Salt,Sunflower Oil.']\n",
      "['Arabica Coffee.']\n",
      "['Green Tea,Orange Peel,Chamomile,Flowers,Licorice Root,Roasted Chicory Root,Natural Flavor,Soy Lecithin. Made With Natural Tea And Flavors From Natural Sources.']\n",
      "['Sugar,Dextrose,Citric Acid,Salt,Sodium Citrate,Monopotassium Phosphate,Calcium Silicate,Modified Food Starch,Natural and Artificial Flavor,Yellow 5.']\n",
      "['Sugar,Cocoa Butter,Milk,Chocolate,Lactose,Skim Milk,Soya Lecithin (Emulsifier),Barley Malt Extract,Artificial Flavoring (Vanillin),.']\n",
      "['Arabica Coffee (100),Decaffeinated by the Swiss Water Process (Trademarks of Swiss Water Decaffeinated Coffee Co., used under license),.']\n",
      "['Mustard Greens,Water,Sugar,Salt,Minced Onion,Hydrolyzed Corn Protein,Sodium Diacetate,Spices,Artificial Flavor (Natural Smoke Flavor, Caramel Color, Spice Extractives),Autolyzed Yeast Extract,Maltodextrin,Sodium Inosinate.']\n",
      "['Enriched Corn Meal (Corn Meal, Ferrous Sulfate, Niacin, Thiamin Mononitrate, Riboflavin, and Folic Acid),Vegetable Oil (Corn, Canola and/or Sunflower Oil),Cheese Seasoning (Whey, Cheddar Cheese (Milk, Cheese Cultures, Salt, Enzymes), Canola Oil, Maltodextrin (Made from Corn), Salt, Whey Protein Concentrate, Monosodium Glutamate, Natural and Artificial Flavors, Lactic Acid, Citric Acid, Artificial Color (Yellow 6)),and Salt.']\n",
      "['Black Beans,Water,Potassium Chloride and Salt.']\n",
      "['Cooked Black Beans,Water,Green Chiles,Soybean Oil,Onion Powder,Salt,Spices,Garlic Powder.']\n",
      "['Filtered Water,Sugar,Apple and Pear Juice Concentrates,Citric Acid,Vegetable and Fruit Juices (for Color),Natural Flavors.']\n",
      "['Organic Brown Rice,Organic Yellow Corn,Seasoning (Organic Cane Juice, Organic Vinegar Powder, Organic Onion, Organic Green Bell Pepper, Sea Salt, Organic Tomato Powder, Organic Jalapeo, Organic Cayenne Pepper, Organic Black Pepper, Organic Cilantro, Natural Flavor),Organic Sunflower Oil,Organic Flax Seeds,Organic Quinoa,Organic Chia Seeds,Organic Kale Flakes.']\n",
      "['Premium Brewed Black Tea Using Filtered Water,Natural Flavors,Honey (Contributes A Dietary Insignificant Amount Of Sugar),Natural Bisulfate Of Soda,Vitamin C. Ingredients: Premium Brewed Blend of Black Teas Using Filtered Water,Natural Flavor,Honey (Adds a Dietarily Insignificant Amount of Sugar),Natural Bisulfate of Soda.']\n",
      "['Enriched Wheat Flour (Flour, Niacin, Reduced Iron, Thiamine Mononitrate, Riboflavin, Folic Acid),Vegetable Oil (Canola, Soybean, Palm and Palm Kernel, Sunflower),Sugar,Salt,Natural and Artificial Flavor,Eggs,Artificial Color (FDC Yellow 5, FDC Yellow 6),.']\n",
      "['Tomatoes,Tomato Juice,High Fructose Corn Syrup,Red Bell Pepper,Tomato Puree,Onions,Salt,Garlic Powder,Roasted Red Bell Pepper (Roasted Red Bell Peppers, Dextrose, Water, Salt, Natural Flavoring, Autolyzed Yeast Extract, Potato Starch, Spice),Citric Acid,Calcium Chloride,Spices,Onion Powder.']\n",
      "['Carbonated Water,High Fructose Corn Syrup,Citric Acid,Quinine And Natural Flavors,Potassium Sorbate (To Protect Taste),.']\n",
      "['Organic Whole Mustard Seed,Organic Distilled White Vinegar,Filtered Water,Sea Salt.']\n",
      "['Whole Milk,Disodium Phosphate,Carrageenan And Vitamin D.']\n",
      "['Dry Roasted Almonds,Modified Food Starch,Natural Artificial Flavors,Cocoa Powder (Processed with Alkali),Salt,Acesulfame Potassium,Sucralose.']\n",
      "['Green Peas,Vegetable Oil (Canola, Sunflower, and/Or Safflower Oil),Rice,Wasabi Ranch Seasoning (Salt, Cultured Nonfat Milk, Milk, Sugar, Tomato Powder, Onion Powder, Maltodextrin, Garlic Powder, Yeast Extract, Natural Flavors [Pasteurized Milk, Cultures, Salt, Enzymes], Spices, White Distilled Vinegar, Dehydrated Parsley, Lactic Acid, Whey, Wasabi Powder),Calcium Carbonate and Vitamin C (Ascorbyl Palmitate),. Contains: Milk. Allergen Information: Made In A Facility That Also Manufactures Products Containing Wheat,Milk,Soy,Shrimp and Fish.']\n",
      "['Green Peas,Vegetable Oil (Canola, Sunflower, and/or Safflower Oil),Rice,Black Pepper Seasoning (Salt, Corn Starch, Spice, Sugar, Maltodextrin, Mushroom Powder, Onion Powder, Garlic Powder, Yeast Extract, White Distilled Vinegar, Salt, Citric Acid, Spice Extractive),Calcium Carbonate,and Vitamin C (Ascorbyl Palmitate),. Safe Handling']\n",
      "['Carbonated And Nitrogenated Water,Sucrose,Glucose,Natural Flavor,Taurine,Citric Acid,Sodium Citrate,Panax Ginseng Root Extract,Caffeine,Potassium Sorbate,Whey Protein (Milk),Sodium Benzoate,Caramel Color,Niacinamide,Sucralose,L-Carnitine,Sodium Chloride,Glucuronolactone,Guarana Seed Extract,Inositol,Pyridoxine Hydrochloride,Riboflavin,Maltodextrin,Yerba Mate,Cyanocobalamin.']\n",
      "['Whole Grain Brown Rice Flour,Degerminated Milled Corn,Sunflower Oil,Salt,Maltodextrin,Onion Powder,Natural Flavor,Sour Cream* (Cream, Nonfat Milk, Cultures),Dry Whey*,Buttermilk Powder*,Nonfat Dry Milk*,Garlic Powder,Sugar,Spices,Gum Arabic,Tocopherols (Preservative),. Contains Milk Ingredients. *Contains A Dietarily Insignificant Amount of Cholesterol.']\n",
      "[\"100 Roasted Coffee. Includes 10 of each: Vanilla Nut,House Blend Decaf,and Organic French Roast,100 premium coffee,no additives,gluten free,calorie free,No sugar needed,gives you all of the coffee flavor without the bitterness,which is why you don't need sugar,7 times more antioxidants than green tea and 5 times more antioxidants than other coffees,70 less acidity compared to other leading coffees,which makes Puroast ideal for people with chronic heartburn,ulcers or acid reflux,Great tasting coffee any time of the day\"]\n",
      "['Chocolate Coating (Sugar, Cocoa Butter, Milk, Chocolate Liquor, Soy Lecithin [An Emulsifier], Vanilla),Pretzels (Whole Grain Wheat Flour, Enriched Wheat Flour [Wheat Flour, Niacin, Reduced Iron, Thiamine Mononitrate {Vitamin B-1}, Riboflavin {Vitamin B-2}, Folic Acid], Sugar, Honey, Cottonseed Oil, Corn Oil, Salt, Vegetable Fiber, Maltotame, Yeast and Soda),.']\n",
      "['Vegetable Stocks (Onion, Celery, Carrot, Mushroom, Red Pepper),Tomato Paste.']\n",
      "['Soybean Oil,Buttermilk,Distilled Vinegar,Egg Yolk,Salt,Sugar,Garlic*,Autolyzed Yeast Extract,Onion*,Spices,Xanthan Gum,Natural Flavors. *Dehydrated. Contains Milk And Eggs.']\n",
      "['Enriched Flour (Wheat Flour, Niacin, Reduced Iron, Thiamin Mononitrate, Riboflavin, And Folic Acid),Sugar,Corn Syrup,Corn Oil,Spices (Including Cinnamon),Raisin Powder,Raisin Juice,Salt,Malt Extract,Wheat Starch,Maltodextrin (Made from Corn),Molasses,Ammonium Bicarbonate,Sunflower Oil,Calcium Stearate,Sunflower Lecithin,And Natural Flavor. Contains Wheat Ingredients.']\n",
      "['White Wine Vinegar,Water,Tarragon Flavor,Sulfites Added to Preserve Color.']\n",
      "['Tomato Puree (Filtered Water, Tomato Paste),Burgundy Wine (may contain Sulfites),Roasted Onion,Carrot,Dehydrated Mushrooms with Porcini,Celery,Roasted Garlic,Balsamic Vinegar,Salt,Vegetable Oil,Thyme and Black Pepper.']\n",
      "['Peanuts,Contains 2 or Less of: Sea Salt,Spices (Contains Celery),Dried Onion,Dried Garlic,Paprika,Natural Flavor,Sugar,Gelatin,Torula Yeast,Cornstarch,Dried Corn Syrup,Maltodextrin.']\n",
      "['Triple Filtered Purified Water,Apple Cider Vinegar,Soy Sauce (Gluten Free),Ginger,Salt,Garlic,Onion Powder,Natural Flavors,Worcestershire Sauce,Lemon Juice,Sucralose,Xanthan Gum,Sodium Benzoate (to Preserve Freshness),.']\n",
      "['Carbonated Water.']\n",
      "['Water,Balsamic Vinegar,Sugar,Soybean Oil,Distilled Vinegar,Salt,Spices,Dehydrated Garlic,Lemon Juice Concentrate,Xanthan Gum,Natural Flavor.']\n",
      "['White Chick Peas,Salt.']\n",
      "['Organic Garbanzo Beans,Water,Sea Salt.']\n",
      "['Spices Including Paprika,Salt,Dehydrated Garlic,Dehydrated Onion,Extractives of Paprika,and Silicon Dioxide Added to Prevent Caking.']\n",
      "['Decaffeinated Green Tea,Hibiscus,Apple,Rose Hips,Natural Pomegranate Flavor with other Natural Flavors (Soy Lecithin),Licorice Root,Pomegranate Peel.']\n",
      "['Filtered Water,Sugar,Apple Juice (Water,Apple Juice Concentrate),Cranberry Juice (Water,Cranberry Juice Concentrate),Raspberry Juice (Water,Raspberry Juice Concentrate),Grape Juice (Water,Grape Juice Concentrate),Natural Flavor,Fumaric Acid,Citric Acid,Vegetable Concentrate for Color,Sodium Citrate,Ascorbic Acid (Vitamin C),Cane or Beet Sugar,Apple Juice from Concentrate,Cranberry Juice from Concentrate,Raspberry Juice from Concentrate,Grape Juice from Concentrate,Carrot Juice from Concentrate,Natural Flavors,.']\n",
      "['Water,Rose Flavour.']\n",
      "['Filtered Water,Concentrated Chicken Broth,Chicken Fat,Onion Powder,Turmeric,Ground Celery Seeds,White Pepper.']\n",
      "['Jasmine Rice (100%),.']\n",
      "['Solid White Albacore Tuna,Water,Salt.']\n",
      "['Corn Oil.']\n",
      "['MetaPlus Proprietary Blend: Taurine,Guarana Extract (Seed),Green Tea Leaf Extract (Leaf),Standardized to 10% EGCG,Caffeine (as Caffeine Anhydrous),Glucuronolactone,Ginger Extract (Root),. Other Ingredients: Premium Brewed Green Tea Using Filtered Water,Citric Acid,Natural Flavors,Fruit and Vegetable Juice for Color,Sucralose.']\n",
      "['A Blend of 100 Pure Regular and Naturally Decaffeinated Ground Coffees.']\n",
      "['Natural Ingredients: Naturally Decaffeinated Green Tea.']\n",
      "['Water,Coriander,Cumin,Canola Oil,Salt,Tamarind,Acetic Acid,Paprika (Color),Spices,Modified Corn Starch,Ground Ginger,Garlic Powder,Citric Acid,Lactic Acid. May Contain Traces of Peanut,Almond,And Cashew Nuts.']\n",
      "['Arabica Coffee (100),Artificial Flavor.']\n",
      "['Apple Juice,Peach Puree,Mango Puree,Strawberry Puree,Banana Puree,Spirulina,Soy Lecithin,Vitamin C (Ascorbic Acid),Wheat Grass,Barley Grass,Wheat Sprouts,Jerusalem Artichoke,Lemon Bioflavonoids,and Nova Scotia Dulse. Contains Soy.']\n",
      "['Ingredients consist of Chocolate Sugar,Chocolate,Chocolate processed with Alkali,Cocoa Butter,Whole Milk,Milk Fat,Soy Lecithin/an Emulsifier,Vanillin/an Artificial Flavor,Sugar,Corn Syrup,Condensed Milk,Invert Sugar,Dairy Cream,Coconut with Sodium Metabisulfite,Partially Hydrogenated Palm Kernel Oil Nuts (Cashews, Almonds, Walnuts, Pecans),Brown Sugar Cherries,Cherries Corn Syrup,Water,Sugar,Citric Acid,Natural and Artificial Flavor,Preserved with Sodium Benzoate,Potassium Sorbate and Sulfur Dioxide,FDC Red 40,),Molasses,Peanut Butter (,Dry Roasted Peanuts,Hydrogenated Cottonseed Rapeseed Oil,Soy Oil,Salt,Whole Milk,Nonfat Milk Solids,Salt,Butter Cocoa Powder,White Chocolate Sugar,Cocoa Butter,Whole Milk,Soy Lecithin/an Emulsifier,Artificial Flavor,Salt,Sorbitol,Raspberries,Egg Albumen,Apricots with a trace of Sulfur Dioxide,Natural and Artificial Flavors,Raisins,Honey,Orange Peel Strawberries,Invertase (an Enzyme),Soy Lecithin/an Emulsifier Spice,Maple Sugar,Tapioca Flour,FDC Colors (Red 40, Yellow 5 6, Blue 1),Carmine Color,preserved with Sodium Benzoate and Potassium Sorbate,and Tocopherols (a Natural Antioxidant),.']\n",
      "['Organic Sugar,Organic Stevia Extract (Stevia Rebaudiana),.']\n",
      "['Kamut Khorasan Wheat Flour*,Rolled Oats*,Wheat Bran*,Cane Sugar*,Whole Wheat Meal*,Whole Oat Flour*,Spelt Flakes*,Soy Oil*,Spelt (Wheat),Flour*,Barley Flour*,Whole Millet*,Rolled Kamut Khorasan Wheat*,Inulin*,Barley Malt Extract*,Sea Salt,Quinoa*,Honey*,Rice Starch*,Molasses*,Cinnamon*,Natural Vanilla Flavor,Tocopherols (Vitamin E),. *Organic.']\n",
      "['Rosemary Leaves']\n",
      "['Black Tea.']\n",
      "['Purified Water,Apple and Grape Juice Concentrates,Ascorbic Acid (Vitamin C),Natural Flavors,Alpha Tocopheryl Acetate (Vitamin E),Vitamin A Palmitate.']\n",
      "['White Grape Juice from Concentrate (Filtered Water,White Grape Juice Concentrate),White Grape Juice,Citric Acid (for Tartness),Ascorbic Acid (Vitamin C),Potassium Metabisulfite (Preservative).,White Grape Juice from Concentrate (Filtered Water, White Grape Juice Concentrate),Potassium Metabisulfite.']\n",
      "['Jack Mackerel,Water And Salt.']\n",
      "['Water,Whitefish,Pike,Egg Whites,Matzo Meal (Passover Wheat Flour and Water),Salt,Onion,Carrageenan,Locust Bean Gum,Potassium Chloride,Dipotassium Phosphate,Pepper,Natural Flavorings.']\n",
      "['Olives,Water,Minced Pimiento (Pimiento, Sodium Alginate, Guar Gum, Calcium Chloride),Salt and Lactic Acid.']\n",
      "['Solid White Albacore Tuna,Olive Oil,Salt.']\n",
      "['Water,Carrots*,Cane Sugar*,Coconut*,Corn Starch*,Cashews*,Ginger*,Sea Salt,Roasted Garlic*,Onion Powder*,Spices*. *Organic']\n",
      "['Water,Hops,Barley And Yeast.']\n",
      "['Filtered Water,High Fructose Corn Syrup,Citric Acid,Sodium Hexametaphosphate !(Preservative),Potassium Citrate,Natural Flavors,Sodium Benzoate and Potassium Sorbate !(Preservatives),Acacia Gum,Calcium Disodium Edta !(to Protect Flavor),Sucralose,Yellow 6,Acesulfame Potassium,Ester Gum.']\n",
      "['100 Orange Juice.']\n",
      "['Water,Hops,Barley And Yeast.']\n",
      "['Peppers,Water,Salt,Citric Acid,Calcium Chloride.']\n",
      "['Peanuts.']\n",
      "['Filtered Water,Sugar,Kiwi Juice Concentrate,Citric Acid,Mango Puree,Natural Flavors,Vegetable Juice and Beta Carotene (For Color),.']\n",
      "['Corn,Water,Red Green Peppers,Salt.']\n",
      "['Potatoes,Cottonseed Oil,Dextrose,Salt,Sugar,Corn Flour,Torula Yeast,Onion And Garlic Powders,Horseradish Powder,Tomato Powder,Natural Coloring (Includes Extractives of Paprika, Annatto And Turmeric),Spice Extractives,Natural Smoke Flavor. Contains No Hydrogenated Fats. This Is A Gluten Free Food.']\n",
      "['Corn Syrup,Filtered Water,Orange Juice Concentrate,Sugar,Apple,Pineapple and Grape Juice Concentrates,Citric Acid (For Tartness),Natural and Artificial Flavor,Raspberry Juice Concentrate,Red 40 (Color),.']\n",
      "['Chunk Pineapple,Pineapple Juice']\n",
      "['Peanuts,contains less than 2 of each of the following: Sea Salt,Sugar,Monosodium Glutamate (flavor enhancer),Cornstarch,Modified Cornstarch,Dried Torula Yeast,Salt,Spice,Molasses,Onion Powder,Natural Flavors (contains cereal with gluten),Garlic Powder,Maltodextrin and Oleoresin of Paprika (contains Soybean Oil),.']\n",
      "['Water,Soybeans,Wheat,Salt,Alcohol.']\n",
      "['Proprietary Organic Blend: Organic Tulsi (Holy Basil),Blend,Vana Tulsi (Leaf),Krishna Tulsi (Leaf),Rama Tulsi (Leaf),Cinnamon (Bark),Rose Petals (Flower),Peppermint (Leaf),Stevia (Leaf),Cardamom (Pod),Chamomile (Flower),. Other Ingredients: Egyptian Rose Flavor.']\n",
      "['Com Syrup,Nonfat Milk,Sugar,Hydrogenated Vegetable Oil (Soybean, Coconut, Cottonseed),Cream,Maltodextrin,High Fructose Com Syrup,Salt,Disodium Phosphate,Emulsifiers (Soy Lecithin, Mono and Diglycerides),Vanillin.']\n",
      "['Sugar,Water,Palm Oil,Corn Syrup,Cocoa Processed with Alkali,Corn Starch,Canola Oil,contains 2 or less of: Salt,Mono and Diglycerides,Modified Corn Starch,Citric Acid,Polysorbate 60,Potassium Sorbate (Preservative),Soy Lecithin,Artificial Flavor,Xanthan Gum,Antioxidants (Ascorbyl Palmitate, Mixed Tocopherols, Chamomile and Rosemary Extracts),.']\n",
      "['Toasted Coated Multigrain Cereal (Whole Grain Rolled Oats, Sugar, Whole Grain Rolled Wheat, Whole Grain Rolled Rye, Molasses, Soybean Oil, Natural Flavor, Soy Lecithin),Almonds,Tapioca Syrup,Sugar,Dried Cherries,Pistachios,Honey,Red Tart Cherry Juice,Sunflower Oil,Water,Glycerin,Salt,Soy Lecithin,Citric Acid.']\n",
      "['Peanuts,Sunflower Seeds,Sugar,Corn Syrup,Salt,Almond Flour. Contains Peanut,Sunflower and Almond Ingredients.']\n",
      "['Sugar,Chocolate,Cocoa Butter,Milkfat,Soya Lecithin (Emulsifier),Peppermint Oil,Artificial Flavoring. Dark Chocolate Contains: Cocoa Solids: 47% Min.']\n",
      "['Sliced Cucumbers,Water,Vinegar,Salt,Alum,Calcium Chloride,Natural Flavoring,Sodium Benzoate And Potassium Sorbate (Preservatives),Oleoresin Turmeric & Yellow 5 (Colors),Polysorbate 80 (Emulsifier),.']\n",
      "['Popcorn,Vegetable Oil (Contains One Or More of The Following: Cottonseed, Corn, Canola, Sunflower, Safflower),Whey,Shortening Powder (Coconut Oil, Corn Syrup Solids, Sodium Caseinate, Mono And Diglycerides),Maltodextrin,Cheddar Cheese (Cultured Milk, Salt, Enzymes),Buttermilk,Salt,Monosodium Glutamate,Natural And Artificial Flavors,Artificial Color (FD&C Yellow #5, FD&C Yellow #6 Lake),Citric Acid,Disodium Phosphate,Lactic Acid,Vitamin A Palmitate. Contains No Hydrogenated Fats. This Is A Gluten Free Food. Allergy Information: Contains Milk And Soy.']\n",
      "['Soy Bean Oil,Water,Eggs,Distilled and Cider Vinegar,Salt,Sugar,Lemon Juice,Natural Flavors,Oleoresin Paprika and Calcium Disodium Edta Added to Protect Flavor. Contains Eggs.']\n",
      "[\"Sugar,Corn Syrup,Palm And Palm Kernel Oil,Enriched Bleached Flour (Wheat Flour, Niacin, Reduced Iron, Thiamin Mononitrate [Vitamin B1], Riboflavin [Vitamin B2], Folic Acid),Water,Dextrose,Partially Hydrogenated Soybean And Cottonseed Oil With Tbhq to Preserve Flavor,Toppers (Sugar, Partially Hydrogenated Cottonseed And Soybean Oil, Corn And/Or Wheat Starch, Dextrin, Soy Lecithin, Confectioner's Glaze, Carnauba Wax, Yellow 5 Lake, Natural And Artificial Flavor, Red 40 Lake, Blue 1 Lake, Blue 2 Lake),Cocoa,Kosher Gelatin,Emulsifiers (Mono- And Diglycerides, Soy Lecithin, Sorbitan Monostearate, Polysorbate 60),Salt,Whey (Milk),Baking Soda,Eggs,Colors (Titanium Dioxide, Red 40),Natural And Artificial Flavors,Corn Starch,Sorbic Acid (to Retain Freshness),Egg Whites,Citric Acid. Allergy Information: Contains Wheat,Soy,Milk And Eggs. Peanuts And Tree Nuts May Also Be Present In This Product.\"]\n",
      "['Sugar,Corn Syrup,Partially Hydrogenated Vegetable Oil (Soybean, Cottonseed),Water,Maltodextrin,Modified Potato Starch,Cornstarch,Natural & Artificial Flavor,Titanium Dioxide (Color),Salt,Cellulose Gum,Potassium Sorbate (Preservative),Citric Acid,Yellow 5,Soy Lecithin,Blue 1. Contains Soy.']\n",
      "['Sugar,Chocolate 23% (Cocoa Mass, Cocoa Butter, Emulsifier: Soy Lecithin),Oat Flakes 20 % Margarine (Palm-, Rapeseed-, Coconut Oil, Salt, Emulsifier: Glycerides, Antioxidant: Citric Acid, Natural Flavorings),Wheat Flour,Egg Powder,Raising Agents: Sodium Hydrogen Carbonate,Sodium Diphosphate,Corn Starch,Ammonium Hydrogen Carbonate.']\n",
      "['Pitted Kalamata Olives,Sea Salt,Vinegar,Extra Virgin Olive Oil.']\n",
      "['Pink Beans,Water,Salt and Calcium Disodium EDTA added to Promote color Retention.']\n",
      "['Enriched Corn Meal Contains Iron as Ferrous Sulfate,Niacin,Thiamine Mononitrate (Vitamin B1),Riboflavin (Vitamin B2),Vegetable Oil (contains one or more of the following: Corn, Canola, or Sunflower Oil),Whey,Cheddar Cheese (Pasteurized Milk, Cheese Cultures, Salt, Enzymes),Salt,Maltodextrin,Buttermilk,Nonfat Milk,and less than 2 of the following: Disodium Phosphate,Blue Cheese (Pasteurized Milk, Cheese Cultures, Salt, Enzymes),Color (Annatto Extract Yellow No. 6. Turmeric Extract, Red No. 40, Caramel),Sodium Caseinate,Lactic Acid,Monosodium Glutamate,Citric Acid,Silicon Dioxide (Anti-Caking Agent),BHA (to protect flavor),Autolyzed Yeast,Extract,Sodium Citrate,Soy Lecithin,Natural and Artificial Flavors,and Spices.']\n",
      "['White Beans,Water,Salt,Calcium Chloride.']\n",
      "['Organic Corn Flour,Organic Evaporated Cane Sugar,Organic Whole Grain Corn Flour,Organic Whole Grain Oat Flour,Fructan (Nutraflora, a Prebiotic Dietary Fiber),Organic Oat Hull Fiber,Calcium Carbonate,Organic Cinnamon,Sea Salt,Natural Flavor. Safe Handling']\n",
      "['Extra Virgin Olive Oil.']\n",
      "['Alcohol,Water,Lemon Oil.']\n",
      "['Prepared Pinto Beans,Water,contains less than 2 of: Salt,Tomato Paste,Sugar,Soybean Oil,Modified Corn Starch,Chili Pepper,Natural Flavors (Extractives of Paprika and other Spices, Dextrose),Paprika,Onion Powder,Spices,Maltodextrin,Citric Acid,Torula Yeast,Garlic Powder. Calcium Disodium EDTA added to Promote Color Retention.']\n",
      "['Potatoes,Cottonseed Oil,Dextrose,Salt,Sugar,Corn Flour,Torula Yeast,Onion and Garlic Powders,Horseradish Powder,Tomato Powder,Natural Coloring (includes Extractives of Paprika, Annatto and Turmeric),Spice Extractives,Natural Smoke Flavor.']\n",
      "['Filtered Water,High Fructose Corn Syrup,Citric Acid,Sodium Hexametaphosphate (Preservative),Tea,Phosphoric Acid,Sodium Benzoate and Potassium Sorbate (Preservatives),Natural Flavors,Ascorbic Acid (to Protect Color),Calcium Disodium Edta (Protect Flavor),.']\n",
      "['Organic Pear,Organic Coconut Milk,Organic Strawberry,Water,Organic Pear Juice Concentrate,Organic Purple Carrot Juice Concentrate (Organic Purple Carrot Juice Concentrate, Citric Acid),Vitamins And Minerals: (Choline Bitartrate, Tricalcium Phosphate, Magnesium Oxide),Malic Acid,Natural Flavors,Ascorbic Acid (Vitamin C),Pectin,Organic Guar Gum. Contains Coconut.']\n",
      "['Sugar,Corn Syrup,Semisweet Chocolate (Chocolate, Sugar, Cocoa, Milk Fat, Cocoa Butter, Lecithin (Soy), PGPR Emulsifier, Vanillin Artificial Flavor, Milk),Contains 2 or Less of: Invert Sugar,Egg Whites,Oil of Peppermint.']\n",
      "['Chicken Stock,Beef Meatball (Beef, Water, Onion, Textured Soy Concentrate, Romano Cheese Sheeps Milk, Salt, Enzymes, Cultures, Soy Protein Concentrate, Salt, Cracker Meal, Corn Syrup Solids, Black Pepper, Dehydrate, Garlic, Dehydrated Parsley),Spinach,Enriched Pasta (Wheat Flour, Egg Whites, Niacin, Ferrous Sulfate, Thiamine Mononitrate, Riboflavin, Folic Acid),contains less than 2 of: Modified Food Starch,Salt,Onions**,Sugar,Cheddar Cheese (Milk, Cultures, Salt, Enzymes),Garlic**,Monosodium Glutamate,Parmesan Cheese (Milk, Cultures, Salt, Enzymes),Flavoring,Chicken**,Chicken,Spice,Chicken Fat,Disodium Guanylate,Disodium Inosinate,Maltodextrin,Turmeric Extract,Beta Carotene for color,Soy Lecithin. **Dried.']\n",
      "['Cashews,Almonds,Certified Gluten Free Oats,Pecans,Brown Rice,Brown Rice Syrup,Evaporated Cane Juice,Honey,Walnuts,Tapioca Maltodextrin,Expeller Pressed Canola Oil,Sea Salt,Natural Flavors,Corn Starch,Rice Bran Extract,Caramel Color.']\n",
      "['French Lentils.']\n",
      "['sugar,wild cherries,water,wild cherry juice and citris acid. Produced in Italy.']\n",
      "['Tomatoes,Tomato Juice,High Fructose Corn Syrup,Onions,Celery,Green Bell Peppers,Salt,Citric Acid,Spices,Calcium Chloride,Garlic Powder.']\n",
      "['Filtered Water,Grape Juice from Concentrate (Filtered Water and Grape Juice Concentrate),Cane or Beet Sugar,Cranberry Juice from Concentrate (Filtered Water and Cranberry Juice Concentrate),Carrot Juice from Concentrate (Filtered Water and Carrot Juice Concentrate),Fumaric Acid,Natural Flavor,Sodium Citrate,Ascorbic Acid (Vitamin C),Citric Acid.']\n",
      "['Brewed from Water,Barley Malt,Cereal Grains,Hops and Yeast.']\n",
      "['Sugar,Corn Syrup Solids,Nonfat Dry Milk,Xanthan Gum,Natural and Artificial Flavors,Sodium Citrate.']\n",
      "['Filtered Water,High Fructose Corn Syrup,Citric Acid,Sodium Hexametaphosphate !(Preservative),Potassium Citrate,Sodium Benzoate and Potassium Sorbate !(Preservatives),Natural Flavors,Calcium Disodium Edta !(to Protect Flavor),Sucralose,Acesulfame Potassium,Red 40.']\n",
      "['Cooked Pinto Beans,Water,Fire Roasted Chiles (Citric Acid),Soybean Oil,Onion Powder,Salt,Spices,Garlic Powder.']\n",
      "['Potatoes,Cottonseed Oil,Salt,Whey,Maltodextrin,Spices (Including Black And White Pepper),Sunflower Oil,Sugar,Dextrose,Onion Powder,Sodium Diacetate,Buttermilk,Garlic Powder,Autolyzed Yeast Extract,Natural Flavors,Yeast Extract,Citric Acid,Disodium Inosinate And Disodium Guanylate,Malic Acid,Artificial Flavor. Contains No Hydrogenated Fats.']\n",
      "['Miso (Water Soybeans, Rice, Salt, Alcohol),Sugar,Naturally Brewed Soy Sauce (Water, Wheat, Soybeans, Salt),Mirin (Sweet Cooking Rice Wine),Water,Hot Pepper Fermented Soybean Paste,Vinegar,Fermented Wheat Protein,Sesame Seeds,Orange Peel,Yeast Extract,Spice,Salt,Natural Flavor.']\n",
      "['Peppers,Vinegar,Water,Salt,Calcium Chloride,Sodium Metabisulfite,1/10 of 1 Benzoate of Soda,FDC Yellow 5,Spices.']\n",
      "['Sugar,Unsweetened Chocolate,Corn Syrup,Cocoa Butter,Sweetened Condensed Milk (Pasteurized Milk, Sugar),Whole Milk Powder,Palm Oil,Water,Butter (Cream, Salt),Milk Fat,Salt,Natural and Artificial Flavor,Disodium Phosphate,Sorbitol,Soy Lecithin--An Emulsifier,Potassium Sorbate,Citric Acid and Tbhq--Preservatives,Vanilla. May Contain Tree Nuts.']\n",
      "[\"M & M's Milk Chocolate: Milk Chocolate (Sugar, Chocolate, Skim Milk, Cocoa Butter, Lactose, Milkfat, Soy Lecithin, Pgpr, Salt, Artificial and Natural Flavors),Sugar,Cornstarch,Less Than 1% of Corn Syrup,Dextrin,Coloring (Including Blue 1 Lake, Yellow 6, Red 40, Yellow 5, Blue 1, Yellow 6 Lake, Red 40 Lake, Yellow 5 Lake, Blue 2, Blue 2 Lake),Gum Acacia. M & M's Peanut: Milk Chocolate (Sugar, Chocolate, Cocoa Butter, Skim Milk, Lactose, Milkfat, Soy Lecithin, Salt, Artificial Flavors),Sugar,Peanuts,Cornstarch,Less Than 1% of Corn Syrup,Dextrin,Coloring (Including Blue 1 Lake, Yellow 6, Red 40, Yellow 5, Blue 1, Yellow 6 Lake, Red 40 Lake, Yellow 5 Lake, Blue 2 Lake, Blue 2),Gum Acacia. M & M's Milk Chocolate: Contains Milk and Soy. May Contain Peanuts. M & M's Peanut: Contains Peanuts,Milk and Soy. May Contain Tree Nuts.\"]\n",
      "['Made From Roasted Peanuts And Sugar,Contains 2 Or Less Of: Molasses,Fully Hydrogenated Vegetable Oils (Rapeseed And Soybean),Mono- And Diglycerides,Salt.']\n",
      "['Tomato Puree* (Tomato Paste*, Water),Naturally Milled Sugar*,Vinegar*,Sea Salt,Onion Powder*,Garlic Powder*,Cayenne Pepper*,Natural Flavor. *Organic.']\n",
      "['Quartered Artichoke Hearts,Water,Vegetable Oil (Soybean Or Sunflower Oil),Vinegar,Salt,Spices,Citric And Ascorbic Acid (to Preserve Color),.']\n",
      "['Filtered Water,High Fructose Corn Syrup (Glucose-Fructose Syrup),Pear Juice From Concentrate,Mango Puree,Apple Juice From Concentrate,Citric Acid,Pineapple Juice From Concentrate,Natural Flavors,Vegetable Juice (For Color),Strawberry Juice from Concentrate,Ascorbic Acid (Vitamin C),Cherry Juice from Concentrate,Gum Acacia.']\n",
      "['Pimientos,Water,Salt Citric Acid.']\n",
      "['Water,Chicken Stock,Spaetzle Dumplings (Enriched Flour Wheat Flour, Ferrous Sulfate, Niacin, Thiamine Mononitrate, Riboflavin, Folic Acid, Water, Eggs, Parsley, Spice, Spice Extract, Salt, Turmeric for Color),Chicken Meat,Carrots,Celery,Vegetable Oil,contains less than 2 of: Green Beans,Peas,Modified Food Starch,Salt,Wheat Flour,Soy Protein Concentrate,Monosodium Glutamate,Sugar,Dehydrated Onions,Sodium Phosphate,Flavoring,Beta Carotene for Color,Spice,Dehydrated Chicken,Butter (Cream Milk),Cream Powder (Cream Milk, Soy Lecithin),Chicken Fat.']\n",
      "['Potatoes,Safflower and/or Sunflower and/or Canola Oil,Organic Dried Cane Syrup,Sea Salt,Vinegar Powder (Maltodextrin, White Distilled Vinegar),Tomato Powder,Yeast Extract,Garlic Powder,Onion Powder,Blue Cheese Solids (Milk, Salt, Cultures, Enzymes),Whey,Spices,Cayenne Pepper,Citric Acid,Parsley Flakes,Tapioca Dextrin,Paprika Extract (Color),Rice Flour,Natural Butter Flavor,Nonfat Milk,Natural Smoke Flavor,Lactic Acid,Natural Flavor.']\n",
      "['Peppers,Vinegar And Salt.']\n",
      "['Decaffeinated Green Tea.']\n",
      "['Peaches,Water,Pears,Grapes,Sugar,Pineapple,Halved Cherries Artificially Colored.']\n",
      "['Water,Sugar,Corn Cider And Distilled Vinegar,Soybean Oil,Modified Corn Starch,Bacon (Cured With: Water, Salt, Smoke Flavoring, Sodium Phosphate, Sodium Erythorbate, Sodium Nitrite),Salt,Onion*,Spices,Natural Flavor,Xanthan Gum,Molasses,Corn Syrup,Caramel Color,Garlic*,Tamarind,Calcium Disodium Edta Added to Protect Flavor. *Dehydrated.']\n",
      "['Spinach,Water,Salt.']\n",
      "['Sugar,Water,Corn Syrup,Enriched Unbleached And Bleached Wheat Flour (Flour, Niacin, Reduced Iron, Thiamin Mononitrate, Riboflavin, Folic Acid),High Fructose Corn Syrup,Soybean Oil,Palm Oil,Eggs,Cocoa (Natural And Processed With Alkali),Contains 2% Or Less of Each of The Following: Modified Food Starch,Dextrose,Leavening (Baking Soda, Sodium Acid Pyrophosphate, Monocalcium),Cornstarch,Calcium Carbonate,Wheat Gluten,Mono- And Diglycerides,Chocolate Liquor,Salt,Calcium Sulfate,Methylcellulose,Agar,Coy Lecithin,Datem,Sodium Stearoyl Lactylate,Cellulose Gum,Polysorbate 60,Guar Gum,Titanium Dioxide (Color),Artificial Flavors,Lactic Acid,Sorbitan Monostearate,Sodium Hexametaphosphate,Annatto (Color),Turmeric (Color),Citric Acid,Xanthan Gum,Caramel Color,Preserved With Potassium Sorbate,Sodium Propionate,And Sodium Benzoate. Manufactured On Shared Equipment That Also Processes Products Containing Tree Nuts And Peanuts.']\n",
      "['Organic Tapioca Syrup,Organic Cane Sugar,Organic Tapioca Syrup Solids,Organic White Grape Juice Concentrate,Pectin,Citric Acid,Ascorbic Acid,Color (Organic Black Carrot),Natural Flavors,Sodium Citrate,Organic Sunflower Oil,Carnauba Wax.']\n",
      "['Potatoes,Cottonseed Oil,Salt,Sugar,Paprika,Onion,Torula Yeast,Corn Starch,Spices Yellow Corn Flour,Artificial Color (FDC Red 40 Lake, FDC Yellow 6 Lake),Mono and Diglycerides,Garlic,Natural Flavor,Extractive of Paprika,Disodium Inosinate,Disodium Guanylate. Contains no Hydrogenated Fats.']\n",
      "['Olive Oil,Balsamic Vinegar,Dried Basil,Extracts Of Basil,Black Pepper And Garlic.']\n",
      "['Potatoes,Cottonseed Oil,Dehydrated Whey,Dextrose,Salt,Shortening Powder partially Hydrogenated Soybean Oil,Corn Syrup Solids,Sodium Caseinate (Milk Derivative),Dehydrated Sour Cream Sour Cream (Cream, Nonfat Milk, Cultures),Cultured Nonfat Milk,Citric Acid,Dehydrated Onion,Sugar,Citric Acid,Dehydrated Parsley,Garlic Powder,Artificial Flavor,Disodium Inosinate and Disodium Guanylate.']\n",
      "['Enriched Wheat Flour (Containing Niacin, Reduced Iron, Thiamine Mononitrate, Riboflavin, Folic Acid),Peanuts,Vegetable Oil (Contains One Or More of The Following Vegetable Oils: Canola Oil, Corn Oil, Palm Oil, Soybean Oil),Sugar,Dextrose,High Fructose Corn Syrup,Salt,Corn Syrup,Leavening (Sodium Bicarbonate, Monocalcium Phosphate),Honey Powder (Honey, Wheat Starch),Molasses Powder,Guar Gum,Artificial Flavor,Enzymes. Contains: Wheat,Peanuts. Allergy Information: This Product Is Manufactured In A Facility That Also Processes Peanut Containing Products.']\n",
      "['MetaPlus Proprietary Blend: Taurine,Guarana Extract (Seed),Green Tea Leaf Extract (Leaf),Standardized to 10% EGCG,Caffeine (as Caffeine Anhydrous),Glucuronolactone,Ginger Extract (Root),. Other Ingredients: Carbonated Filtered Water,Natural Flavors,Sucralose,Caramel Color.']\n",
      "['Wine Vinegar from Organic Grapes,Organic Concentrated Cooked Grape Must.']\n",
      "['100 Cassia Acutifolia.']\n",
      "['Green Tea: Green Tea. Green Tea with Peach: Green Tea,Natural Peach Flavor (Soy Lecithin),Peach Granules. Green Tea with Lemon: Green Tea,Lemon Peel,Natural Flavor (Soy Lecithin),. Green Tea with Mint: Green Tea,Mint Leaves. Green Tea Decaffeinated: Decaffeinated Green Tea. Green Tea with Pomegranate: Green Tea,Apple,Hibiscus,Natural Pomegranate Flavors with Other Natural Flavors (Soy Lecithin),Rose Hips,Licorice Root,Pomegranate Peel.']\n",
      "['Fruit Puree (Grape and Strawberry),Corn Syrup,Sugar,Modified Corn Starch,Gelatin,Citric Acid,Lactic Acid,Natural and Artificial Flavors,Ascorbic Acid (Vitamin C),Alpha Tocopherol Acetate (Vitamin E),Vitamin A Palmitate,Sodium Citrate,Coconut Oil,Carnauba Wax,and Red 40.']\n",
      "['Honey,Fructose,Lemon Juice Concentrate (4%),Lemon Oil.']\n",
      "['100 ArabicaCoffee.']\n",
      "['Enriched Bleached Wheat Flour (Wheat & Malt Barley Flour, Niacin, Iron, Thiamine Mononitrate, Riboflavin, Folic Acid),Salt,Spice,Leavening (Sodium Aluminum Phosphate, Sodium Acid Pyrophosphate, Sodium Bicarbonate, Monocalcium Phosphate),Monosodium Glutamate (Flavor Enhancer),Garlic,Natural Flavor,Lemon Puree,and Lemon Juice.']\n",
      "['Sherry Wine,Salt,Potassium Metabisulfite (Preservative),.']\n",
      "['Pineapple,Yellow and Red Papaya,Clarified Pineapple Juice,Sugar,Passion Fruit Juice,Natural Flavors,Citric Acid,Ascorbic Acid.']\n",
      "['Almonds,Vegetable Oil (Canola, Safflower and/or Sunflower),Sea Salt.']\n",
      "[\"Made with 100 Arabica Coffee. 12 ea QTY 6,Keurig brewed.,For Keurig k-cup brewing systems.,Not for Keurig Vue brewing systems.,For use in all Keurig k-cup brewers. Extra bold.,Handcrafted quality of the Pacific Northwest. Some professionals need.,To approach their jobs slowly and with a great deal of care. Like tightrope walkers.,Or brain surgeons. Or tattoo artists. At Tully's,the same holds true for creating great coffee.,It takes a lot of time and patience,which is why we slow roast our coffee beans to gently coax out the complex flavors and aromas.,With roots in the Pacific Northwest,where coffee is a way of life,we take our time in roasting and in training each master roaster in our artisanal approach.,From the aroma to the full-bodied flavor,you can taste the time taken in every satisfying cup of Tully's' coffee.,Now we invite you to take your time discovering it. Facebook.com/TullysCoffee. Brewing a better world together. BrewingABetterWorld.com.,Keurig brewed is our promise.,Since the beginning,we've been dedicated to the art and science of bringing you the coffee you love,every time.,Always look for the Keurig brewed seal.,The only mark of genuine Keurig quality.,A smoky,decadent tale. Our most popular roast.,French roast is the ultimate coffee story,as written in a Parisian cafe: powerful and intense,with a bittersweet end.,Made with 100 arabica coffee.,For more information contact: Green Mountain Coffee Roasters,Inc. For brewer inquiries contact: 1-866-901-Brew/1-866-901-2739. Find us on Facebook.com/Keurig or Twitter.com/Keurig.,This package is made with a minimum of 35 post-consumer materials. Printed in the USA.\"]\n",
      "['Tomato Puree (Water, Tomato Paste),Mushrooms,Onions,Sugar,Canola Oil,Contains Less than 1 of: Salt,Garlic,Citric Acid,Spice,Onion Extract,Garlic Extract.']\n",
      "['Sugar,Chocolate Liquor,Wheat Flour,Palm Oil Shortening,Hazelnuts,Cocoa Butter,Whey,Low Fat Cocoa Powder,Sweet Whey Powder,Butter Oil,Sunflower Lecithin,Milk,Liquid Invert Sugar,Natural Flavoring,Salt,Sodium Bicarbonate,Skim Milk,Egg Yolk,Spice.']\n",
      "['Red Wine Vinegar.']\n",
      "['Our Real Tea Starts with the Finest Tea Leaves and is Made From: Filtered Water,Sugar,Citric Acid,Tea,Natural Flavors.']\n",
      "['Reconstituted Vegetable Juice Blend (Water and Concentrated Juices of Tomatoes, Carrots, Celery Beets, Parsley, Lettuce, Watercress, Spinach),contains less than 2 of: Salt,Vitamin C (Ascorbic Acid),Natural Flavoring,Citric Acid.']\n",
      "['Filtered Water,High Fructose Corn Syrup (Glucose-Fructose Syrup),Pear Juice From Concentrate,Mango Puree,Citric Acid,Pineapple Juice From Concentrate,Kiwi Juice From Concentrate,Watermelon Juice From Concentrate,Fruit And Vegetable Juice (For Color),Natural Flavors,Ascorbic Acid (Vitamin C),Gum Acacia,Sucralose. Ingredients: Filtered Water,High Fructose Corn Syrup,(Glucose-Fructose Syrup),Pear Juice from Concentrate,Mango Puree,Citric Acid,Pineapple Juice from Concentrate,Kiwi Juice from Concentrate,Watermelon Juice from Concentrate,Fruit and Vegetable Juice (for Color),Natural Flavors,Ascorbic Acid (Vitamin C),Gum Acacia,Sucralose (Splenda Brand),.']\n",
      "['Apples,Clarified Pineapple Juice from Concentrate (Water, Clarified Pineapple Juice Concentrate),White Grape Juice from Concentrate (Water, White Grape Juice Concentrate),Lemon Juice from Concentrate (Water, Lemon Juice Concentrate),Ascorbic Acid (to Promote Color Retention),Natural Flavors,and Citric Acid.']\n",
      "['Maltitol,Gum Base,Sorbitol,Maltitol Syrup,Glycerin,Natural And Artificial Flavoring; Less Than 2% of: Acesulfame Potassium,Aspartame,Blue 1,Candelilla Wax,Gelatin,Soy Lecithin,Titanium Dioxide (Color),And Xanthan Gum. Phenylketonurics: Contains Phenylalanine.']\n",
      "['Tomatoes,Tomato Puree,Imported Olive Oil,Salt,Garlic,Spices,and Parsley.']\n",
      "['Potatoes,Peanut Oil,Sugar,Fructose,Salt,Cream,Cheddar And Blue Cheeses (Milk, Cheese Cultures, Salt, Enzymes),Onion Powder,Paprika,Tomato Powder,Whey,Maltodextrin,Spice,Annatto,Lactose,Extractives of Paprika And Turmeric,Garlic Powder,Lactic Acid,Malic Acid,Nonfat Milk,Parsley,Citric Acid,Natural Hickory Smoke Flavor,Natural Flavor. This Is A Gluten Free Food.']\n",
      "['Sugar,Wheat Flour,Palm Oil Shortening,Cocoa Butter,Hazelnuts,Chocolate Liquor,Skimmed Milk,Whole Milk Powder,Whey Powder,Butter Oil,Whey,Low Fat Cocoa Powder,Lactose,Soy Lecithin,Natural Vanilla and Hazelnut Flavors,Salt,Almonds,Sodium Bicarbonate,Dried Yolk,Spices.']\n",
      "['Carbonated Water,Natural Flavors.']\n",
      "['Enriched Wheat Flour (Flour, Niacin, Reduced Iron, Thiamine Mononitrate, Riboflavin, Folic Acid),Dried Coconut,Sugar,Vegetable Oil (Canola, Soybean, Palm and Palm Kernel, Sunflower),High Fructose Corn Syrup,Salt,Eggs.']\n",
      "['Water,White Sugar,Tomato Paste,White Vinegar,Onions,Salt,Brown Sugar,Canola Oil,Spices (Contains Thyme And All Spices),Shallots,Modified Corn Starch,Dijon Mustard (Water, Mustard Seed, Distilled Vinegar, Salt, White Wine, Citric Acid, Tartaric Acid, Pectin, Spices),Soy Sauce (Water, Soy Beans, Wheat Flour, Salt),Garlic,Peppers (Contains Pimento),Ginger,Herbs,Onion Powder,Garlic Powder,Concentrated Lime Juice (May Contain Sulfites),Dehydrated Scallions,Potassium Sorbate (Preservative),. Made In A Facility That Uses Wheat,Soy,Milk,Eggs,Nuts And Fish.']\n",
      "['Wheat Flour,Salt,Corn Oil,Malt Syrup (Derived from Barley),Sugar,Yeast,Soda. Contains No Hydrogenated Fats. Allergy Information: Contains Wheat And Barley. This Product Is Also Made On A Production Line That Produces Other Pretzels That May Contain Milk,Soy And Sesame Seed. Made In A Peanut And Tree Nut Free Facility.']\n",
      "['Water,Ethyl Alcohol (35),And Vanilla Bean Extractives. All natural,No added sugar,No artificial preservatives']\n",
      "['Purified Water,Magnesium Sulfate,Potassium Chloride,Salt (Adds A Negligible Amount of Sodium),.']\n",
      "['Whole Fresh Potatoes,Sliced And Cooked In 100 Pure Cottonseed Oil,With Salt Added. No Preservatives Added. This Is A Gluten Free Food.']\n",
      "['Water,Canola Oil,Tomato Puree (Tomatoes, Salt, Citric Acid),Distilled Vinegar,Red Wine Vinegar,Salt,Modified Corn Starch,Dried Basil,Dried Onion,Natural Flavors,Mustard Flour,Dried Garlic,Citric Acid,Xanthan Gum,Sucralose,Potassium Sorbate (to Preserve Freshness),.']\n",
      "['Green Tea Leaf.']\n",
      "['Olives,Water,Almonds,Salt,Lactic Acid.']\n",
      "['Water,Sugar,Canola Oil,Cider Vinegar,Concentrated Lemon Juice,Salt,Granulated Garlic,Natural Flavors (Milk),Xanthan Gum,Black Pepper,Granulated Onion,Potassium Sorbate (to Preserve Freshness),.']\n",
      "['Senna Leaves,Malve Leaves,Panax Ginseng,Licorice Root,Natural Orange Flavor,Benzyl Benzoate.']\n",
      "['Organic Wine Vinegar,Organic Concentrated Grape Must.']\n",
      "['Manzanilla Olives,Water,Minced Pimiento (Pimiento, Sodium Alginate, Guar Gum, Calcium Chloride),Salt,Lactic Acid,Citric Acid,Ascorbic Acid,Potassium Sorbate to Protect Quality.']\n",
      "['Water,Corn Syrup and 2 or less of each of the following: Concentrated Juices (Orange, Apple, Grapefruit, Tangerine, Lime),Citric Acid,Malic Acid,Ascorbic Acid (Vitamin C),Thiamin Hydrochloride (Vitamin B1),Natural and Artificial Flavors,Modified Cornstarch,Canola Oil,Cellulose,Gum,Sucralose,Sodium Hexametaphosphate,Potassium Sorbate to Protect Flavor,Red 40,Blue1 and Disodium EDTA to protect color.']\n",
      "['Kidney Beans,Water,Sugar,Corn Syrup,Salt,Natural Flavorings,Onion Powder,Calcium Chloride,Disodium EDTA added as a preservative.']\n",
      "['Made with 100 Arabica Coffee.']\n",
      "['Paprika,And Other Spices (Including Red Pepper, Oregano, Thyme And Black Pepper),Salt,Maltodextrin,Garlic,Onion,Sugar And Silicon Dioxide (Added To Make Free Flowing),.']\n",
      "['Sugar,Partially Hydrogenated Vegetable Oil (Soybean and Cottonseed Oil),Water,Corn Syrup,Corn Starch,Contains 2 Or Less of Each of The Following: Color Added Including Red 40,Salt,Mono- and Diglycerides,Modified Corn Starch,Artificial Flavor,Polysorbate 60,Potassium Sorbate (Preservative),Soy Lecithin,Citric Acid,Sodium Citrate. Contains Soybean Ingredients.']\n",
      "['Filtered Water,Sugar,Apple,Pear,and Grape Juice Concentrates,Citric Acid,Natural Flavors.']\n",
      "['Tomatoes,Tomato Juice,High Fructose Corn Syrup,Sea Salt,Dehydrated Onions,Garlic Powder,Toasted Sesame Oil,Citric Acid,Calcium Chloride,Spices,Natural Flavor.']\n",
      "['100 Pure Pasteurized Orange Juice,Calcium Hydroxide*,Malic Acid*,Citric Acid*,Beta-Carotene*,Vitamin E Acetate (Vitamin E),* and Vitamin D3*. *Ingredient not found in regular orange juice.']\n",
      "[\"Sugar,Partially Hydrogenated Vegetable Oil (Cottonseed, Soybean),Cornstarch,Cocoa Processed w/Alkali,Dextrin,Carnauba Wax,Confectioner's Glaze,Soy Lecithin,Natural Artificial Flavor,Red 40 Lake,Blue 1 Lake,Yellow 6 Lake,Yellow 5 Lake,Red 3.\"]\n",
      "['Filtered Water,Citric Acid,Sodium Hexametaphosphate (To Protect Flavor),Phosphoric Acid,Natural Flavor,Sodium Benzoate (Preserves Freshness),Sodium Citrate,Sucralose,Calcium Disodium EDTA (To Protect Flavor),.']\n",
      "['Chicken Broth (Contains Flavor),Enriched Egg Noodles (Water, Enriched Semolina [Wheat, Niacin, Ferrous Sulfate, Thiamine Mononitrate, Riboflavin, Folic Acid], Whole Eggs, Egg Whites, Wheat Gluten, Glyceryl Monostearate),Carrots,White Chicken (White Chicken Meat, Water, Modified Food Starch, Salt, Sodium Phosphates),Modified Cornstarch,Chicken Fat,Contains 2% Or Less of Celery,Potato Starch,Red Bell Peppers,Salt,Flavoring,Hydrolyzed Corn Protein,Sugar,Monosodium Glutamate,Yeast Extract,Spices.']\n",
      "['Water,Hops,Barley and Yeast.']\n",
      "['Carbonated Water,Natural Flavor.']\n",
      "['Sugar,Citric Acid,Instant Tea,Natural Lemon Flavor with Other Natural Flavors,Caramel Color,Natural Lemon Juice Solids,Artificial Color F.D.& C Red #40.,Artificial Color F.D. C Red 40.']\n",
      "['Tea,Tea Extracts,Water,Natural Tea Flavour with other Natural Flavours.']\n",
      "['Filtered Water (sufficient to reconstitute),Organic Concord Grape Juice Concentrate.']\n",
      "['Black Tea.']\n"
     ]
    },
    {
     "ename": "AttributeError",
     "evalue": "'float' object has no attribute 'split'",
     "output_type": "error",
     "traceback": [
      "\u001b[1;31m---------------------------------------------------------------------------\u001b[0m",
      "\u001b[1;31mAttributeError\u001b[0m                            Traceback (most recent call last)",
      "\u001b[1;32m<ipython-input-81-b59530ec80bb>\u001b[0m in \u001b[0;36m<module>\u001b[1;34m\u001b[0m\n\u001b[0;32m      2\u001b[0m \u001b[1;33m\u001b[0m\u001b[0m\n\u001b[0;32m      3\u001b[0m \u001b[1;32mfor\u001b[0m \u001b[0mi\u001b[0m \u001b[1;32min\u001b[0m \u001b[0mingredients\u001b[0m\u001b[1;33m:\u001b[0m\u001b[1;33m\u001b[0m\u001b[1;33m\u001b[0m\u001b[0m\n\u001b[1;32m----> 4\u001b[1;33m     \u001b[0mx\u001b[0m \u001b[1;33m=\u001b[0m \u001b[0mi\u001b[0m\u001b[1;33m.\u001b[0m\u001b[0msplit\u001b[0m\u001b[1;33m(\u001b[0m\u001b[1;34m\") \"\u001b[0m\u001b[1;33m)\u001b[0m\u001b[1;33m\u001b[0m\u001b[1;33m\u001b[0m\u001b[0m\n\u001b[0m\u001b[0;32m      5\u001b[0m     \u001b[0mprint\u001b[0m\u001b[1;33m(\u001b[0m\u001b[0mx\u001b[0m\u001b[1;33m)\u001b[0m\u001b[1;33m\u001b[0m\u001b[1;33m\u001b[0m\u001b[0m\n",
      "\u001b[1;31mAttributeError\u001b[0m: 'float' object has no attribute 'split'"
     ]
    }
   ],
   "source": [
    "ingredients = df['features.value']\n",
    "\n",
    "for i in ingredients:\n",
    "    x = i.split(\") \")\n",
    "    print(x)"
   ]
  },
  {
   "cell_type": "markdown",
   "metadata": {},
   "source": [
    "### 5 - Compute a média e desvio padrão da frequência dos ingredientes"
   ]
  },
  {
   "cell_type": "code",
   "execution_count": null,
   "metadata": {},
   "outputs": [],
   "source": []
  },
  {
   "cell_type": "markdown",
   "metadata": {},
   "source": [
    "### 6 - Quais os ingredientes mais usados por cada marca? E os menos usados?"
   ]
  },
  {
   "cell_type": "code",
   "execution_count": null,
   "metadata": {},
   "outputs": [],
   "source": []
  },
  {
   "cell_type": "markdown",
   "metadata": {},
   "source": [
    "### 7 - Compute alguma informação não demandada pelas questões anteriores e justifique o porquê que tal informação é útil"
   ]
  },
  {
   "cell_type": "code",
   "execution_count": null,
   "metadata": {},
   "outputs": [],
   "source": []
  }
 ],
 "metadata": {
  "kernelspec": {
   "display_name": "Python 3",
   "language": "python",
   "name": "python3"
  },
  "language_info": {
   "codemirror_mode": {
    "name": "ipython",
    "version": 3
   },
   "file_extension": ".py",
   "mimetype": "text/x-python",
   "name": "python",
   "nbconvert_exporter": "python",
   "pygments_lexer": "ipython3",
   "version": "3.8.1"
  }
 },
 "nbformat": 4,
 "nbformat_minor": 2
}
